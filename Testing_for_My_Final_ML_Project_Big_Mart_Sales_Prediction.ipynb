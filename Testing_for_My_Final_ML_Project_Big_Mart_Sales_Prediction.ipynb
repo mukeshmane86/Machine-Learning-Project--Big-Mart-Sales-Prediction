{
  "cells": [
    {
      "cell_type": "markdown",
      "source": [
        "\n",
        "\n",
        "**Mukesh Ashok Mane (7-9 RT ML Batch)**\n",
        "\n",
        "\n",
        "\n",
        "\n",
        "\n",
        " **Machine Learning Project- Big Mart Sales Prediction**\n",
        "\n"
      ],
      "metadata": {
        "id": "xaNyf9JGL28E"
      }
    },
    {
      "cell_type": "code",
      "source": [],
      "metadata": {
        "id": "KoJIXUOhXlf5"
      },
      "execution_count": null,
      "outputs": []
    },
    {
      "cell_type": "markdown",
      "source": [],
      "metadata": {
        "id": "Z9amvghUXnEM"
      }
    },
    {
      "cell_type": "markdown",
      "metadata": {
        "id": "7vfUf5zRSza3"
      },
      "source": [
        "**Table of Contents**\n",
        "\n",
        "\n",
        "   \n",
        "\n",
        "\n",
        "*   Aim of Project\n",
        "* Import Necssaries Libraries\n",
        "\n",
        "\n",
        "\n",
        "*   Exploaring the data\n",
        "*  EDA\n",
        "\n",
        "*   Ordinal coding\n",
        "*   Splitting data into features and Target\n",
        "\n",
        "*   Model Building(1model)\n",
        "*   Hyper Tunning\n",
        "\n",
        "*  Model Building(2model)\n",
        "*   Model Evaluation\n",
        "\n",
        "*   Testing New Observation\n",
        "\n",
        "\n",
        "\n",
        "\n",
        "\n",
        "\n",
        "\n",
        "\n",
        "\n",
        "\n",
        "\n",
        "\n",
        "\n",
        "\n",
        "\n"
      ]
    },
    {
      "cell_type": "markdown",
      "metadata": {
        "id": "wtiLMDYKUQAO"
      },
      "source": [
        "\n",
        "**Aim of Project:- **\n",
        "\n",
        "The aim is to build a predictive model and find out the \n",
        "sales of each product at a particular store. Using this model, BigMart will try to understand the properties of products and stores which play a key role in increasing sales.\n",
        "\n"
      ]
    },
    {
      "cell_type": "markdown",
      "metadata": {
        "id": "LVXbklWLb_Qm"
      },
      "source": [
        "Import Necssaries Libraries\n"
      ]
    },
    {
      "cell_type": "code",
      "execution_count": null,
      "metadata": {
        "id": "fwjseYJUbhIu"
      },
      "outputs": [],
      "source": [
        "import numpy as np\n",
        "import pandas as pd\n",
        "import matplotlib.pyplot as plt\n",
        "import seaborn as sns\n",
        "from sklearn.preprocessing import LabelEncoder\n",
        "from sklearn.model_selection import train_test_split\n",
        "from sklearn import metrics\n",
        "import warnings\n",
        "warnings.filterwarnings(\"ignore\")"
      ]
    },
    {
      "cell_type": "markdown",
      "metadata": {
        "id": "T6Qv_wKjrP1A"
      },
      "source": [
        "Exploaring the data\n"
      ]
    },
    {
      "cell_type": "code",
      "execution_count": null,
      "metadata": {
        "colab": {
          "base_uri": "https://localhost:8080/"
        },
        "id": "RZHt9s0qKnJ9",
        "outputId": "467e5629-06a7-4a62-d105-7af339d12704"
      },
      "outputs": [
        {
          "output_type": "stream",
          "name": "stdout",
          "text": [
            "Drive already mounted at /content/drive; to attempt to forcibly remount, call drive.mount(\"/content/drive\", force_remount=True).\n"
          ]
        }
      ],
      "source": [
        "from google.colab import drive\n",
        "drive.mount('/content/drive')"
      ]
    },
    {
      "cell_type": "markdown",
      "source": [
        "loading the data from csv file to Pandas DataFrame"
      ],
      "metadata": {
        "id": "nvPi4OiA7QLr"
      }
    },
    {
      "cell_type": "code",
      "execution_count": null,
      "metadata": {
        "id": "AFU14Fvbcs8A"
      },
      "outputs": [],
      "source": [
        "\n",
        "big_mart_data = pd.read_csv('/content/drive/MyDrive/My ML Project/Train.csv')"
      ]
    },
    {
      "cell_type": "code",
      "execution_count": null,
      "metadata": {
        "colab": {
          "base_uri": "https://localhost:8080/",
          "height": 357
        },
        "id": "22sDgYb0da9x",
        "outputId": "c965b7a9-801d-4dd3-fa8a-e3eb296d962d"
      },
      "outputs": [
        {
          "output_type": "execute_result",
          "data": {
            "text/plain": [
              "  Item_Identifier  Item_Weight Item_Fat_Content  Item_Visibility  \\\n",
              "0           FDA15         9.30          Low Fat         0.016047   \n",
              "1           DRC01         5.92          Regular         0.019278   \n",
              "2           FDN15        17.50          Low Fat         0.016760   \n",
              "3           FDX07        19.20          Regular         0.000000   \n",
              "4           NCD19         8.93          Low Fat         0.000000   \n",
              "\n",
              "               Item_Type  Item_MRP Outlet_Identifier  \\\n",
              "0                  Dairy  249.8092            OUT049   \n",
              "1            Soft Drinks   48.2692            OUT018   \n",
              "2                   Meat  141.6180            OUT049   \n",
              "3  Fruits and Vegetables  182.0950            OUT010   \n",
              "4              Household   53.8614            OUT013   \n",
              "\n",
              "   Outlet_Establishment_Year Outlet_Size Outlet_Location_Type  \\\n",
              "0                       1999      Medium               Tier 1   \n",
              "1                       2009      Medium               Tier 3   \n",
              "2                       1999      Medium               Tier 1   \n",
              "3                       1998         NaN               Tier 3   \n",
              "4                       1987        High               Tier 3   \n",
              "\n",
              "         Outlet_Type  Item_Outlet_Sales  \n",
              "0  Supermarket Type1          3735.1380  \n",
              "1  Supermarket Type2           443.4228  \n",
              "2  Supermarket Type1          2097.2700  \n",
              "3      Grocery Store           732.3800  \n",
              "4  Supermarket Type1           994.7052  "
            ],
            "text/html": [
              "\n",
              "  <div id=\"df-6b354c3b-2c48-4bf5-9a36-aa1bc442fa06\">\n",
              "    <div class=\"colab-df-container\">\n",
              "      <div>\n",
              "<style scoped>\n",
              "    .dataframe tbody tr th:only-of-type {\n",
              "        vertical-align: middle;\n",
              "    }\n",
              "\n",
              "    .dataframe tbody tr th {\n",
              "        vertical-align: top;\n",
              "    }\n",
              "\n",
              "    .dataframe thead th {\n",
              "        text-align: right;\n",
              "    }\n",
              "</style>\n",
              "<table border=\"1\" class=\"dataframe\">\n",
              "  <thead>\n",
              "    <tr style=\"text-align: right;\">\n",
              "      <th></th>\n",
              "      <th>Item_Identifier</th>\n",
              "      <th>Item_Weight</th>\n",
              "      <th>Item_Fat_Content</th>\n",
              "      <th>Item_Visibility</th>\n",
              "      <th>Item_Type</th>\n",
              "      <th>Item_MRP</th>\n",
              "      <th>Outlet_Identifier</th>\n",
              "      <th>Outlet_Establishment_Year</th>\n",
              "      <th>Outlet_Size</th>\n",
              "      <th>Outlet_Location_Type</th>\n",
              "      <th>Outlet_Type</th>\n",
              "      <th>Item_Outlet_Sales</th>\n",
              "    </tr>\n",
              "  </thead>\n",
              "  <tbody>\n",
              "    <tr>\n",
              "      <th>0</th>\n",
              "      <td>FDA15</td>\n",
              "      <td>9.30</td>\n",
              "      <td>Low Fat</td>\n",
              "      <td>0.016047</td>\n",
              "      <td>Dairy</td>\n",
              "      <td>249.8092</td>\n",
              "      <td>OUT049</td>\n",
              "      <td>1999</td>\n",
              "      <td>Medium</td>\n",
              "      <td>Tier 1</td>\n",
              "      <td>Supermarket Type1</td>\n",
              "      <td>3735.1380</td>\n",
              "    </tr>\n",
              "    <tr>\n",
              "      <th>1</th>\n",
              "      <td>DRC01</td>\n",
              "      <td>5.92</td>\n",
              "      <td>Regular</td>\n",
              "      <td>0.019278</td>\n",
              "      <td>Soft Drinks</td>\n",
              "      <td>48.2692</td>\n",
              "      <td>OUT018</td>\n",
              "      <td>2009</td>\n",
              "      <td>Medium</td>\n",
              "      <td>Tier 3</td>\n",
              "      <td>Supermarket Type2</td>\n",
              "      <td>443.4228</td>\n",
              "    </tr>\n",
              "    <tr>\n",
              "      <th>2</th>\n",
              "      <td>FDN15</td>\n",
              "      <td>17.50</td>\n",
              "      <td>Low Fat</td>\n",
              "      <td>0.016760</td>\n",
              "      <td>Meat</td>\n",
              "      <td>141.6180</td>\n",
              "      <td>OUT049</td>\n",
              "      <td>1999</td>\n",
              "      <td>Medium</td>\n",
              "      <td>Tier 1</td>\n",
              "      <td>Supermarket Type1</td>\n",
              "      <td>2097.2700</td>\n",
              "    </tr>\n",
              "    <tr>\n",
              "      <th>3</th>\n",
              "      <td>FDX07</td>\n",
              "      <td>19.20</td>\n",
              "      <td>Regular</td>\n",
              "      <td>0.000000</td>\n",
              "      <td>Fruits and Vegetables</td>\n",
              "      <td>182.0950</td>\n",
              "      <td>OUT010</td>\n",
              "      <td>1998</td>\n",
              "      <td>NaN</td>\n",
              "      <td>Tier 3</td>\n",
              "      <td>Grocery Store</td>\n",
              "      <td>732.3800</td>\n",
              "    </tr>\n",
              "    <tr>\n",
              "      <th>4</th>\n",
              "      <td>NCD19</td>\n",
              "      <td>8.93</td>\n",
              "      <td>Low Fat</td>\n",
              "      <td>0.000000</td>\n",
              "      <td>Household</td>\n",
              "      <td>53.8614</td>\n",
              "      <td>OUT013</td>\n",
              "      <td>1987</td>\n",
              "      <td>High</td>\n",
              "      <td>Tier 3</td>\n",
              "      <td>Supermarket Type1</td>\n",
              "      <td>994.7052</td>\n",
              "    </tr>\n",
              "  </tbody>\n",
              "</table>\n",
              "</div>\n",
              "      <button class=\"colab-df-convert\" onclick=\"convertToInteractive('df-6b354c3b-2c48-4bf5-9a36-aa1bc442fa06')\"\n",
              "              title=\"Convert this dataframe to an interactive table.\"\n",
              "              style=\"display:none;\">\n",
              "        \n",
              "  <svg xmlns=\"http://www.w3.org/2000/svg\" height=\"24px\"viewBox=\"0 0 24 24\"\n",
              "       width=\"24px\">\n",
              "    <path d=\"M0 0h24v24H0V0z\" fill=\"none\"/>\n",
              "    <path d=\"M18.56 5.44l.94 2.06.94-2.06 2.06-.94-2.06-.94-.94-2.06-.94 2.06-2.06.94zm-11 1L8.5 8.5l.94-2.06 2.06-.94-2.06-.94L8.5 2.5l-.94 2.06-2.06.94zm10 10l.94 2.06.94-2.06 2.06-.94-2.06-.94-.94-2.06-.94 2.06-2.06.94z\"/><path d=\"M17.41 7.96l-1.37-1.37c-.4-.4-.92-.59-1.43-.59-.52 0-1.04.2-1.43.59L10.3 9.45l-7.72 7.72c-.78.78-.78 2.05 0 2.83L4 21.41c.39.39.9.59 1.41.59.51 0 1.02-.2 1.41-.59l7.78-7.78 2.81-2.81c.8-.78.8-2.07 0-2.86zM5.41 20L4 18.59l7.72-7.72 1.47 1.35L5.41 20z\"/>\n",
              "  </svg>\n",
              "      </button>\n",
              "      \n",
              "  <style>\n",
              "    .colab-df-container {\n",
              "      display:flex;\n",
              "      flex-wrap:wrap;\n",
              "      gap: 12px;\n",
              "    }\n",
              "\n",
              "    .colab-df-convert {\n",
              "      background-color: #E8F0FE;\n",
              "      border: none;\n",
              "      border-radius: 50%;\n",
              "      cursor: pointer;\n",
              "      display: none;\n",
              "      fill: #1967D2;\n",
              "      height: 32px;\n",
              "      padding: 0 0 0 0;\n",
              "      width: 32px;\n",
              "    }\n",
              "\n",
              "    .colab-df-convert:hover {\n",
              "      background-color: #E2EBFA;\n",
              "      box-shadow: 0px 1px 2px rgba(60, 64, 67, 0.3), 0px 1px 3px 1px rgba(60, 64, 67, 0.15);\n",
              "      fill: #174EA6;\n",
              "    }\n",
              "\n",
              "    [theme=dark] .colab-df-convert {\n",
              "      background-color: #3B4455;\n",
              "      fill: #D2E3FC;\n",
              "    }\n",
              "\n",
              "    [theme=dark] .colab-df-convert:hover {\n",
              "      background-color: #434B5C;\n",
              "      box-shadow: 0px 1px 3px 1px rgba(0, 0, 0, 0.15);\n",
              "      filter: drop-shadow(0px 1px 2px rgba(0, 0, 0, 0.3));\n",
              "      fill: #FFFFFF;\n",
              "    }\n",
              "  </style>\n",
              "\n",
              "      <script>\n",
              "        const buttonEl =\n",
              "          document.querySelector('#df-6b354c3b-2c48-4bf5-9a36-aa1bc442fa06 button.colab-df-convert');\n",
              "        buttonEl.style.display =\n",
              "          google.colab.kernel.accessAllowed ? 'block' : 'none';\n",
              "\n",
              "        async function convertToInteractive(key) {\n",
              "          const element = document.querySelector('#df-6b354c3b-2c48-4bf5-9a36-aa1bc442fa06');\n",
              "          const dataTable =\n",
              "            await google.colab.kernel.invokeFunction('convertToInteractive',\n",
              "                                                     [key], {});\n",
              "          if (!dataTable) return;\n",
              "\n",
              "          const docLinkHtml = 'Like what you see? Visit the ' +\n",
              "            '<a target=\"_blank\" href=https://colab.research.google.com/notebooks/data_table.ipynb>data table notebook</a>'\n",
              "            + ' to learn more about interactive tables.';\n",
              "          element.innerHTML = '';\n",
              "          dataTable['output_type'] = 'display_data';\n",
              "          await google.colab.output.renderOutput(dataTable, element);\n",
              "          const docLink = document.createElement('div');\n",
              "          docLink.innerHTML = docLinkHtml;\n",
              "          element.appendChild(docLink);\n",
              "        }\n",
              "      </script>\n",
              "    </div>\n",
              "  </div>\n",
              "  "
            ]
          },
          "metadata": {},
          "execution_count": 121
        }
      ],
      "source": [
        "\n",
        "big_mart_data.head()"
      ]
    },
    {
      "cell_type": "markdown",
      "source": [
        "Item_Identifier - Unique product ID. The FD stands for some food materials that can eat, DR stands for drinks, NC stands for Non-Commutable products.\n",
        "\n",
        "• Item_Weight – Weight of product\n",
        "\n",
        "• Item_Fat_Content – Whether the product is low fat or not\n",
        "\n",
        "• Item_Visibility – The % of total display area of all products in a store allocated to the particular product\n",
        "\n",
        "• Item_Type – The category to which the product belongs\n",
        "\n",
        "• Item_MRP – Maximum Retail Price (list price) of the product\n",
        "\n",
        "• Outlet_Identifier – Unique store ID\n",
        "\n",
        "• Outlet_Establishment_Year –The year in which store was established\n",
        "\n",
        "• Outlet_Size – The size of the store in terms of ground area covered\n",
        "\n",
        "• Outlet_Location_Type –The type of city in which the store is located\n",
        "• Outlet_Type – Whether the outlet is just a grocery store or some sort of supermarket\n",
        "\n",
        "• Item_Outlet_Sales – Sales of the product in the particular store. This one is the outcome variable to be predicted"
      ],
      "metadata": {
        "id": "g-FounX4mVrM"
      }
    },
    {
      "cell_type": "markdown",
      "metadata": {
        "id": "uo_Or0NuU4LM"
      },
      "source": [
        "Data Cleaning\n",
        " number of data points & number of features\n"
      ]
    },
    {
      "cell_type": "code",
      "execution_count": null,
      "metadata": {
        "colab": {
          "base_uri": "https://localhost:8080/"
        },
        "id": "t_HuzdTTdiqb",
        "outputId": "76ca0d18-32f4-41d9-8e4e-1eac2b61450d"
      },
      "outputs": [
        {
          "output_type": "execute_result",
          "data": {
            "text/plain": [
              "(8523, 12)"
            ]
          },
          "metadata": {},
          "execution_count": 122
        }
      ],
      "source": [
        "\n",
        "big_mart_data.shape"
      ]
    },
    {
      "cell_type": "markdown",
      "source": [
        "Getting some information about the dataset\n"
      ],
      "metadata": {
        "id": "P6ETdOwa7hWa"
      }
    },
    {
      "cell_type": "code",
      "execution_count": null,
      "metadata": {
        "colab": {
          "base_uri": "https://localhost:8080/"
        },
        "id": "YzjdyEigd0GM",
        "outputId": "9dcd801d-a685-41d0-cb1e-097e7630407c"
      },
      "outputs": [
        {
          "output_type": "stream",
          "name": "stdout",
          "text": [
            "<class 'pandas.core.frame.DataFrame'>\n",
            "RangeIndex: 8523 entries, 0 to 8522\n",
            "Data columns (total 12 columns):\n",
            " #   Column                     Non-Null Count  Dtype  \n",
            "---  ------                     --------------  -----  \n",
            " 0   Item_Identifier            8523 non-null   object \n",
            " 1   Item_Weight                7060 non-null   float64\n",
            " 2   Item_Fat_Content           8523 non-null   object \n",
            " 3   Item_Visibility            8523 non-null   float64\n",
            " 4   Item_Type                  8523 non-null   object \n",
            " 5   Item_MRP                   8523 non-null   float64\n",
            " 6   Outlet_Identifier          8523 non-null   object \n",
            " 7   Outlet_Establishment_Year  8523 non-null   int64  \n",
            " 8   Outlet_Size                6113 non-null   object \n",
            " 9   Outlet_Location_Type       8523 non-null   object \n",
            " 10  Outlet_Type                8523 non-null   object \n",
            " 11  Item_Outlet_Sales          8523 non-null   float64\n",
            "dtypes: float64(4), int64(1), object(7)\n",
            "memory usage: 799.2+ KB\n"
          ]
        }
      ],
      "source": [
        "big_mart_data.info()"
      ]
    },
    {
      "cell_type": "markdown",
      "source": [
        "\n",
        "\n",
        "*   The given dataset of Big Mart Sales has 8523 observation with 12 columns.\n",
        "*   Some of the columns are of object datatype and some of float64 datatype.\n",
        "*   **Numerical Features are** :  ['Item_Weight', 'Item_Visibility', 'Item_MRP', 'Outlet_Establishment_Year', 'Item_Outlet_Sales']\n",
        "*  **Categorical Features are** :  ['Item_Identifier', 'Item_Fat_Content', 'Item_Type', 'Outlet_Identifier', 'Outlet_Size', 'Outlet_Location_Type', 'Outlet_Type']\n",
        "\n",
        "\n",
        "\n",
        "\n",
        "\n"
      ],
      "metadata": {
        "id": "0smSC3ou7xS_"
      }
    },
    {
      "cell_type": "code",
      "execution_count": null,
      "metadata": {
        "colab": {
          "base_uri": "https://localhost:8080/"
        },
        "id": "fcsNUlTtej1f",
        "outputId": "c907efc1-fdcc-4094-8b9e-bf6f203892a6"
      },
      "outputs": [
        {
          "output_type": "execute_result",
          "data": {
            "text/plain": [
              "Item_Identifier                 0\n",
              "Item_Weight                  1463\n",
              "Item_Fat_Content                0\n",
              "Item_Visibility                 0\n",
              "Item_Type                       0\n",
              "Item_MRP                        0\n",
              "Outlet_Identifier               0\n",
              "Outlet_Establishment_Year       0\n",
              "Outlet_Size                  2410\n",
              "Outlet_Location_Type            0\n",
              "Outlet_Type                     0\n",
              "Item_Outlet_Sales               0\n",
              "dtype: int64"
            ]
          },
          "metadata": {},
          "execution_count": 124
        }
      ],
      "source": [
        "big_mart_data.isnull().sum()"
      ]
    },
    {
      "cell_type": "markdown",
      "source": [
        "\n",
        "\n",
        "*   There are null values present in item weight as count less than total rows, \n",
        "*   There are null values present in Outlet_Size as count less than total rows\n",
        "*   We have seen above that Item_Weight is a Numerical Feature So we can substitute mean value to fill the missing values.\n",
        "*   Outlet_Size is a Categorical Feature so will use mode to impute the missing values in this column\n",
        "\n",
        "\n",
        "\n",
        "\n",
        "\n",
        "\n",
        "\n",
        "\n",
        "\n"
      ],
      "metadata": {
        "id": "aDruskfimsdS"
      }
    },
    {
      "cell_type": "markdown",
      "metadata": {
        "id": "N7AtxFv7VOr2"
      },
      "source": [
        "EDA"
      ]
    },
    {
      "cell_type": "markdown",
      "metadata": {
        "id": "N-yzq6Tvkpak"
      },
      "source": [
        "Handling Missing Values"
      ]
    },
    {
      "cell_type": "markdown",
      "metadata": {
        "id": "6Y6hOo6zl1JE"
      },
      "source": [
        "Mean --> average\n",
        "\n",
        "Mode --> more repeated value"
      ]
    },
    {
      "cell_type": "code",
      "execution_count": null,
      "metadata": {
        "colab": {
          "base_uri": "https://localhost:8080/"
        },
        "id": "0Iim8oBml0H6",
        "outputId": "d4d206cd-e357-454a-afb3-76ec3654b1c4"
      },
      "outputs": [
        {
          "output_type": "execute_result",
          "data": {
            "text/plain": [
              "12.857645184135976"
            ]
          },
          "metadata": {},
          "execution_count": 125
        }
      ],
      "source": [
        "big_mart_data['Item_Weight'].mean()"
      ]
    },
    {
      "cell_type": "markdown",
      "source": [
        "mean value of \"Item_Weight\" column\n"
      ],
      "metadata": {
        "id": "qHireYKC9J3p"
      }
    },
    {
      "cell_type": "code",
      "execution_count": null,
      "metadata": {
        "id": "HonvBOteewkc"
      },
      "outputs": [],
      "source": [
        "\n",
        "big_mart_data['Item_Weight'].fillna(big_mart_data['Item_Weight'].mean(), inplace=True)"
      ]
    },
    {
      "cell_type": "markdown",
      "source": [
        "filling the missing values in \"Item_weight column\" with \"Mean\" value"
      ],
      "metadata": {
        "id": "dO1FDIO59SSf"
      }
    },
    {
      "cell_type": "markdown",
      "source": [
        "We know that, the Outlet_size and Outlet_Type are related to each other. So we are filling the missing values of the Outlet_Size by using the values in Outlet_Type"
      ],
      "metadata": {
        "id": "EebB9BSonlxd"
      }
    },
    {
      "cell_type": "markdown",
      "source": [
        "Checking  mode of \"Outlet_Size\" column\n",
        "\n",
        "\n",
        "\n"
      ],
      "metadata": {
        "id": "vtn9vZbn9Z0V"
      }
    },
    {
      "cell_type": "code",
      "source": [
        "big_mart_data['Outlet_Size'].mode()"
      ],
      "metadata": {
        "colab": {
          "base_uri": "https://localhost:8080/"
        },
        "id": "6-_IMIaG9wWO",
        "outputId": "07ce3d74-df3d-432a-8bb2-3394558d33fc"
      },
      "execution_count": null,
      "outputs": [
        {
          "output_type": "execute_result",
          "data": {
            "text/plain": [
              "0    Medium\n",
              "dtype: object"
            ]
          },
          "metadata": {},
          "execution_count": 127
        }
      ]
    },
    {
      "cell_type": "code",
      "execution_count": null,
      "metadata": {
        "id": "2-DBh6DP-cA3"
      },
      "outputs": [],
      "source": [
        "mode_of_Outlet_size = big_mart_data.pivot_table(values='Outlet_Size', columns='Outlet_Type', aggfunc=(lambda x: x.mode()[0]))\n"
      ]
    },
    {
      "cell_type": "markdown",
      "source": [
        " filling the missing values in \"Outlet_Size\" column with Mode"
      ],
      "metadata": {
        "id": "E6_Jiq4D91qX"
      }
    },
    {
      "cell_type": "code",
      "execution_count": null,
      "metadata": {
        "colab": {
          "base_uri": "https://localhost:8080/"
        },
        "id": "yo415g27-4wp",
        "outputId": "f578a9c5-a72b-4514-a352-fc6fa83ce8b5"
      },
      "outputs": [
        {
          "output_type": "stream",
          "name": "stdout",
          "text": [
            "Outlet_Type Grocery Store Supermarket Type1 Supermarket Type2  \\\n",
            "Outlet_Size         Small             Small            Medium   \n",
            "\n",
            "Outlet_Type Supermarket Type3  \n",
            "Outlet_Size            Medium  \n"
          ]
        }
      ],
      "source": [
        "print(mode_of_Outlet_size)"
      ]
    },
    {
      "cell_type": "code",
      "execution_count": null,
      "metadata": {
        "id": "uMBQoiBC_NQf"
      },
      "outputs": [],
      "source": [
        "miss_values = big_mart_data['Outlet_Size'].isnull()   "
      ]
    },
    {
      "cell_type": "code",
      "execution_count": null,
      "metadata": {
        "colab": {
          "base_uri": "https://localhost:8080/"
        },
        "id": "zyt9Y0dd_20a",
        "outputId": "ad490559-c99e-4fec-913d-0b36d49c5148"
      },
      "outputs": [
        {
          "output_type": "stream",
          "name": "stdout",
          "text": [
            "0       False\n",
            "1       False\n",
            "2       False\n",
            "3        True\n",
            "4       False\n",
            "        ...  \n",
            "8518    False\n",
            "8519     True\n",
            "8520    False\n",
            "8521    False\n",
            "8522    False\n",
            "Name: Outlet_Size, Length: 8523, dtype: bool\n"
          ]
        }
      ],
      "source": [
        "print(miss_values)"
      ]
    },
    {
      "cell_type": "code",
      "execution_count": null,
      "metadata": {
        "id": "torjizDt_lRK"
      },
      "outputs": [],
      "source": [
        "big_mart_data.loc[miss_values, 'Outlet_Size'] = big_mart_data.loc[miss_values,'Outlet_Type'].apply(lambda x: mode_of_Outlet_size[x])"
      ]
    },
    {
      "cell_type": "code",
      "execution_count": null,
      "metadata": {
        "colab": {
          "base_uri": "https://localhost:8080/"
        },
        "id": "Oo1Jor0qme3C",
        "outputId": "a2d99fc6-7e5d-46e9-e60b-885dbf917d68"
      },
      "outputs": [
        {
          "output_type": "execute_result",
          "data": {
            "text/plain": [
              "Item_Identifier              0\n",
              "Item_Weight                  0\n",
              "Item_Fat_Content             0\n",
              "Item_Visibility              0\n",
              "Item_Type                    0\n",
              "Item_MRP                     0\n",
              "Outlet_Identifier            0\n",
              "Outlet_Establishment_Year    0\n",
              "Outlet_Size                  0\n",
              "Outlet_Location_Type         0\n",
              "Outlet_Type                  0\n",
              "Item_Outlet_Sales            0\n",
              "dtype: int64"
            ]
          },
          "metadata": {},
          "execution_count": 133
        }
      ],
      "source": [
        "big_mart_data.isnull().sum()\n"
      ]
    },
    {
      "cell_type": "markdown",
      "source": [
        "Now again checking for missing values, their is no Missing Values"
      ],
      "metadata": {
        "id": "PWFTchTC-JDG"
      }
    },
    {
      "cell_type": "markdown",
      "metadata": {
        "id": "rIC7GbtbsBRd"
      },
      "source": [
        "Data PreProcessing¶\n"
      ]
    },
    {
      "cell_type": "code",
      "execution_count": null,
      "metadata": {
        "colab": {
          "base_uri": "https://localhost:8080/",
          "height": 300
        },
        "id": "E4Vyd4StBoBE",
        "outputId": "9c051ea1-38b0-421d-c5ff-db54634ea429"
      },
      "outputs": [
        {
          "output_type": "execute_result",
          "data": {
            "text/plain": [
              "       Item_Weight  Item_Visibility     Item_MRP  Outlet_Establishment_Year  \\\n",
              "count  8523.000000      8523.000000  8523.000000                8523.000000   \n",
              "mean     12.857645         0.066132   140.992782                1997.831867   \n",
              "std       4.226124         0.051598    62.275067                   8.371760   \n",
              "min       4.555000         0.000000    31.290000                1985.000000   \n",
              "25%       9.310000         0.026989    93.826500                1987.000000   \n",
              "50%      12.857645         0.053931   143.012800                1999.000000   \n",
              "75%      16.000000         0.094585   185.643700                2004.000000   \n",
              "max      21.350000         0.328391   266.888400                2009.000000   \n",
              "\n",
              "       Item_Outlet_Sales  \n",
              "count        8523.000000  \n",
              "mean         2181.288914  \n",
              "std          1706.499616  \n",
              "min            33.290000  \n",
              "25%           834.247400  \n",
              "50%          1794.331000  \n",
              "75%          3101.296400  \n",
              "max         13086.964800  "
            ],
            "text/html": [
              "\n",
              "  <div id=\"df-9fc0ff26-29c6-48ac-bbc2-006d5c767607\">\n",
              "    <div class=\"colab-df-container\">\n",
              "      <div>\n",
              "<style scoped>\n",
              "    .dataframe tbody tr th:only-of-type {\n",
              "        vertical-align: middle;\n",
              "    }\n",
              "\n",
              "    .dataframe tbody tr th {\n",
              "        vertical-align: top;\n",
              "    }\n",
              "\n",
              "    .dataframe thead th {\n",
              "        text-align: right;\n",
              "    }\n",
              "</style>\n",
              "<table border=\"1\" class=\"dataframe\">\n",
              "  <thead>\n",
              "    <tr style=\"text-align: right;\">\n",
              "      <th></th>\n",
              "      <th>Item_Weight</th>\n",
              "      <th>Item_Visibility</th>\n",
              "      <th>Item_MRP</th>\n",
              "      <th>Outlet_Establishment_Year</th>\n",
              "      <th>Item_Outlet_Sales</th>\n",
              "    </tr>\n",
              "  </thead>\n",
              "  <tbody>\n",
              "    <tr>\n",
              "      <th>count</th>\n",
              "      <td>8523.000000</td>\n",
              "      <td>8523.000000</td>\n",
              "      <td>8523.000000</td>\n",
              "      <td>8523.000000</td>\n",
              "      <td>8523.000000</td>\n",
              "    </tr>\n",
              "    <tr>\n",
              "      <th>mean</th>\n",
              "      <td>12.857645</td>\n",
              "      <td>0.066132</td>\n",
              "      <td>140.992782</td>\n",
              "      <td>1997.831867</td>\n",
              "      <td>2181.288914</td>\n",
              "    </tr>\n",
              "    <tr>\n",
              "      <th>std</th>\n",
              "      <td>4.226124</td>\n",
              "      <td>0.051598</td>\n",
              "      <td>62.275067</td>\n",
              "      <td>8.371760</td>\n",
              "      <td>1706.499616</td>\n",
              "    </tr>\n",
              "    <tr>\n",
              "      <th>min</th>\n",
              "      <td>4.555000</td>\n",
              "      <td>0.000000</td>\n",
              "      <td>31.290000</td>\n",
              "      <td>1985.000000</td>\n",
              "      <td>33.290000</td>\n",
              "    </tr>\n",
              "    <tr>\n",
              "      <th>25%</th>\n",
              "      <td>9.310000</td>\n",
              "      <td>0.026989</td>\n",
              "      <td>93.826500</td>\n",
              "      <td>1987.000000</td>\n",
              "      <td>834.247400</td>\n",
              "    </tr>\n",
              "    <tr>\n",
              "      <th>50%</th>\n",
              "      <td>12.857645</td>\n",
              "      <td>0.053931</td>\n",
              "      <td>143.012800</td>\n",
              "      <td>1999.000000</td>\n",
              "      <td>1794.331000</td>\n",
              "    </tr>\n",
              "    <tr>\n",
              "      <th>75%</th>\n",
              "      <td>16.000000</td>\n",
              "      <td>0.094585</td>\n",
              "      <td>185.643700</td>\n",
              "      <td>2004.000000</td>\n",
              "      <td>3101.296400</td>\n",
              "    </tr>\n",
              "    <tr>\n",
              "      <th>max</th>\n",
              "      <td>21.350000</td>\n",
              "      <td>0.328391</td>\n",
              "      <td>266.888400</td>\n",
              "      <td>2009.000000</td>\n",
              "      <td>13086.964800</td>\n",
              "    </tr>\n",
              "  </tbody>\n",
              "</table>\n",
              "</div>\n",
              "      <button class=\"colab-df-convert\" onclick=\"convertToInteractive('df-9fc0ff26-29c6-48ac-bbc2-006d5c767607')\"\n",
              "              title=\"Convert this dataframe to an interactive table.\"\n",
              "              style=\"display:none;\">\n",
              "        \n",
              "  <svg xmlns=\"http://www.w3.org/2000/svg\" height=\"24px\"viewBox=\"0 0 24 24\"\n",
              "       width=\"24px\">\n",
              "    <path d=\"M0 0h24v24H0V0z\" fill=\"none\"/>\n",
              "    <path d=\"M18.56 5.44l.94 2.06.94-2.06 2.06-.94-2.06-.94-.94-2.06-.94 2.06-2.06.94zm-11 1L8.5 8.5l.94-2.06 2.06-.94-2.06-.94L8.5 2.5l-.94 2.06-2.06.94zm10 10l.94 2.06.94-2.06 2.06-.94-2.06-.94-.94-2.06-.94 2.06-2.06.94z\"/><path d=\"M17.41 7.96l-1.37-1.37c-.4-.4-.92-.59-1.43-.59-.52 0-1.04.2-1.43.59L10.3 9.45l-7.72 7.72c-.78.78-.78 2.05 0 2.83L4 21.41c.39.39.9.59 1.41.59.51 0 1.02-.2 1.41-.59l7.78-7.78 2.81-2.81c.8-.78.8-2.07 0-2.86zM5.41 20L4 18.59l7.72-7.72 1.47 1.35L5.41 20z\"/>\n",
              "  </svg>\n",
              "      </button>\n",
              "      \n",
              "  <style>\n",
              "    .colab-df-container {\n",
              "      display:flex;\n",
              "      flex-wrap:wrap;\n",
              "      gap: 12px;\n",
              "    }\n",
              "\n",
              "    .colab-df-convert {\n",
              "      background-color: #E8F0FE;\n",
              "      border: none;\n",
              "      border-radius: 50%;\n",
              "      cursor: pointer;\n",
              "      display: none;\n",
              "      fill: #1967D2;\n",
              "      height: 32px;\n",
              "      padding: 0 0 0 0;\n",
              "      width: 32px;\n",
              "    }\n",
              "\n",
              "    .colab-df-convert:hover {\n",
              "      background-color: #E2EBFA;\n",
              "      box-shadow: 0px 1px 2px rgba(60, 64, 67, 0.3), 0px 1px 3px 1px rgba(60, 64, 67, 0.15);\n",
              "      fill: #174EA6;\n",
              "    }\n",
              "\n",
              "    [theme=dark] .colab-df-convert {\n",
              "      background-color: #3B4455;\n",
              "      fill: #D2E3FC;\n",
              "    }\n",
              "\n",
              "    [theme=dark] .colab-df-convert:hover {\n",
              "      background-color: #434B5C;\n",
              "      box-shadow: 0px 1px 3px 1px rgba(0, 0, 0, 0.15);\n",
              "      filter: drop-shadow(0px 1px 2px rgba(0, 0, 0, 0.3));\n",
              "      fill: #FFFFFF;\n",
              "    }\n",
              "  </style>\n",
              "\n",
              "      <script>\n",
              "        const buttonEl =\n",
              "          document.querySelector('#df-9fc0ff26-29c6-48ac-bbc2-006d5c767607 button.colab-df-convert');\n",
              "        buttonEl.style.display =\n",
              "          google.colab.kernel.accessAllowed ? 'block' : 'none';\n",
              "\n",
              "        async function convertToInteractive(key) {\n",
              "          const element = document.querySelector('#df-9fc0ff26-29c6-48ac-bbc2-006d5c767607');\n",
              "          const dataTable =\n",
              "            await google.colab.kernel.invokeFunction('convertToInteractive',\n",
              "                                                     [key], {});\n",
              "          if (!dataTable) return;\n",
              "\n",
              "          const docLinkHtml = 'Like what you see? Visit the ' +\n",
              "            '<a target=\"_blank\" href=https://colab.research.google.com/notebooks/data_table.ipynb>data table notebook</a>'\n",
              "            + ' to learn more about interactive tables.';\n",
              "          element.innerHTML = '';\n",
              "          dataTable['output_type'] = 'display_data';\n",
              "          await google.colab.output.renderOutput(dataTable, element);\n",
              "          const docLink = document.createElement('div');\n",
              "          docLink.innerHTML = docLinkHtml;\n",
              "          element.appendChild(docLink);\n",
              "        }\n",
              "      </script>\n",
              "    </div>\n",
              "  </div>\n",
              "  "
            ]
          },
          "metadata": {},
          "execution_count": 134
        }
      ],
      "source": [
        "big_mart_data.describe()"
      ]
    },
    {
      "cell_type": "markdown",
      "metadata": {
        "id": "GdDN9rvWuICQ"
      },
      "source": [
        "\n",
        "\n",
        "\n",
        "*  The given dataset of Big Mart Sales has 8523 observation with 12 columns.\n",
        "* The Average Item weight concentrate around 12.\n",
        "\n",
        "*  The range of weight is 4 to 21.\n",
        "*  The mean and medium value for Item Weight is around same i.e 12 so there is no skewness.\n",
        "\n",
        "*  The Average Item MRP concentrate around 145.\n",
        "*   The range of MRP is 31 to 266.\n",
        "\n",
        "*   he mean and medium value for Item Weight is 140 and 145 respectively, so we can say there is -ve skewness or left hand side skewness.\n",
        "\n",
        "\n",
        "\n",
        "*   Minimum value of visibility is zero that can not be posiible so we will treat it as a null value\n",
        "*   Variance is almost zero in item visibility column and very high in item mrp. There are some outliers present as difference between min, max and interquartile range is unequal\n",
        "\n",
        "\n",
        "\n",
        "\n",
        "\n",
        "\n",
        "\n",
        "\n",
        "\n",
        "\n",
        "\n",
        "\n",
        "\n",
        "\n",
        "\n",
        "\n"
      ]
    },
    {
      "cell_type": "markdown",
      "source": [
        "Analysis of Item Weights"
      ],
      "metadata": {
        "id": "yaWLbIB8oZVR"
      }
    },
    {
      "cell_type": "code",
      "execution_count": null,
      "metadata": {
        "colab": {
          "base_uri": "https://localhost:8080/",
          "height": 389
        },
        "id": "5rksM5MimhOF",
        "outputId": "fd2ec3b2-b9d5-4678-9307-b636df95c1d8"
      },
      "outputs": [
        {
          "output_type": "display_data",
          "data": {
            "text/plain": [
              "<Figure size 432x432 with 1 Axes>"
            ],
            "image/png": "[encoded data removed]"
          },
          "metadata": {
            "needs_background": "light"
          }
        }
      ],
      "source": [
        "# Item_Weight distribution\n",
        "plt.figure(figsize=(6,6))\n",
        "sns.distplot(big_mart_data['Item_Weight'])\n",
        "plt.show()"
      ]
    },
    {
      "cell_type": "markdown",
      "source": [
        "From the plot above, We can see that Item_Weight with range 13 is having the highest distribution."
      ],
      "metadata": {
        "id": "GeMAcB69oi4p"
      }
    },
    {
      "cell_type": "markdown",
      "source": [
        "Analysis of Item Visibility"
      ],
      "metadata": {
        "id": "uBW_gNkBouNe"
      }
    },
    {
      "cell_type": "code",
      "execution_count": null,
      "metadata": {
        "colab": {
          "base_uri": "https://localhost:8080/",
          "height": 389
        },
        "id": "LE1yDwIxsOAl",
        "outputId": "c9a5a073-1de1-4855-ded4-7e9661c320a5"
      },
      "outputs": [
        {
          "output_type": "display_data",
          "data": {
            "text/plain": [
              "<Figure size 432x432 with 1 Axes>"
            ],
            "image/png": "[encoded data removed]"
          },
          "metadata": {
            "needs_background": "light"
          }
        }
      ],
      "source": [
        "# Item Visibility distribution\n",
        "plt.figure(figsize=(6,6))\n",
        "sns.distplot(big_mart_data['Item_Visibility'])\n",
        "plt.show()"
      ]
    },
    {
      "cell_type": "markdown",
      "source": [
        "The plot suggest that its not a normal distribution or we can say that the distribution is kind of right skewed or positive skewed"
      ],
      "metadata": {
        "id": "ExGDIDwCowC9"
      }
    },
    {
      "cell_type": "code",
      "execution_count": null,
      "metadata": {
        "colab": {
          "base_uri": "https://localhost:8080/",
          "height": 389
        },
        "id": "-qLPjmVSsYVN",
        "outputId": "9b89edac-6419-4764-83b5-43ff27503f24"
      },
      "outputs": [
        {
          "output_type": "display_data",
          "data": {
            "text/plain": [
              "<Figure size 432x432 with 1 Axes>"
            ],
            "image/png": "[encoded data removed]"
          },
          "metadata": {
            "needs_background": "light"
          }
        }
      ],
      "source": [
        "# Item MRP distribution\n",
        "plt.figure(figsize=(6,6))\n",
        "sns.distplot(big_mart_data['Item_MRP'])\n",
        "plt.show()"
      ]
    },
    {
      "cell_type": "markdown",
      "source": [
        "Analysis of Outlet Sales"
      ],
      "metadata": {
        "id": "6ISEk0gVo_2E"
      }
    },
    {
      "cell_type": "code",
      "execution_count": null,
      "metadata": {
        "colab": {
          "base_uri": "https://localhost:8080/",
          "height": 389
        },
        "id": "pEPbiUEjttpz",
        "outputId": "1a109a78-ba14-4304-cbf9-b71e39c1d7e2"
      },
      "outputs": [
        {
          "output_type": "display_data",
          "data": {
            "text/plain": [
              "<Figure size 432x432 with 1 Axes>"
            ],
            "image/png": "[encoded data removed]"
          },
          "metadata": {
            "needs_background": "light"
          }
        }
      ],
      "source": [
        "# Item_Outlet_Sales distribution\n",
        "plt.figure(figsize=(6,6))\n",
        "sns.distplot(big_mart_data['Item_Outlet_Sales'])\n",
        "plt.show()"
      ]
    },
    {
      "cell_type": "markdown",
      "source": [
        "Most Outlet sales in range of 1000 to 2000 and its a right skewed distribution"
      ],
      "metadata": {
        "id": "Pn49RhIcpCCG"
      }
    },
    {
      "cell_type": "markdown",
      "source": [
        "Analysis of Outlet Establishment Year"
      ],
      "metadata": {
        "id": "EmGYJ7jWp-Mm"
      }
    },
    {
      "cell_type": "code",
      "execution_count": null,
      "metadata": {
        "colab": {
          "base_uri": "https://localhost:8080/",
          "height": 389
        },
        "id": "S1PNqe_3uLfU",
        "outputId": "c6cdd07e-004a-492f-bc67-8093e02f439b"
      },
      "outputs": [
        {
          "output_type": "display_data",
          "data": {
            "text/plain": [
              "<Figure size 432x432 with 1 Axes>"
            ],
            "image/png": "[encoded data removed]"
          },
          "metadata": {
            "needs_background": "light"
          }
        }
      ],
      "source": [
        "# Outlet_Establishment_Year column\n",
        "plt.figure(figsize=(6,6))\n",
        "sns.countplot(x='Outlet_Establishment_Year', data=big_mart_data)\n",
        "plt.show()"
      ]
    },
    {
      "cell_type": "markdown",
      "metadata": {
        "id": "IGtSKeFnuNJy"
      },
      "source": [
        "Categorical Features"
      ]
    },
    {
      "cell_type": "code",
      "execution_count": null,
      "metadata": {
        "colab": {
          "base_uri": "https://localhost:8080/",
          "height": 389
        },
        "id": "6hXxeo9dt-Js",
        "outputId": "3f9ca0f5-754a-4650-8b79-589f2f6eeafb"
      },
      "outputs": [
        {
          "output_type": "display_data",
          "data": {
            "text/plain": [
              "<Figure size 432x432 with 1 Axes>"
            ],
            "image/png": "[encoded data removed]"
          },
          "metadata": {
            "needs_background": "light"
          }
        }
      ],
      "source": [
        "# Item_Fat_Content column\n",
        "plt.figure(figsize=(6,6))\n",
        "sns.countplot(x='Item_Fat_Content', data=big_mart_data)\n",
        "plt.show()"
      ]
    },
    {
      "cell_type": "code",
      "execution_count": null,
      "metadata": {
        "colab": {
          "base_uri": "https://localhost:8080/",
          "height": 219
        },
        "id": "RHm0Sh8vuyKM",
        "outputId": "d34451bb-49e0-4af3-e566-39ea8a4a1344"
      },
      "outputs": [
        {
          "output_type": "display_data",
          "data": {
            "text/plain": [
              "<Figure size 2160x432 with 1 Axes>"
            ],
            "image/png": "[encoded data removed]"
          },
          "metadata": {
            "needs_background": "light"
          }
        }
      ],
      "source": [
        "# Item_Type column\n",
        "plt.figure(figsize=(30,6))\n",
        "sns.countplot(x='Item_Type', data=big_mart_data)\n",
        "plt.show()"
      ]
    },
    {
      "cell_type": "code",
      "execution_count": null,
      "metadata": {
        "colab": {
          "base_uri": "https://localhost:8080/",
          "height": 391
        },
        "id": "nLkJIy3NF2Gd",
        "outputId": "0c3a0f01-7e43-4e4c-9b48-2e203f436ac2"
      },
      "outputs": [
        {
          "output_type": "display_data",
          "data": {
            "text/plain": [
              "<Figure size 432x432 with 1 Axes>"
            ],
            "image/png": "[encoded data removed]"
          },
          "metadata": {
            "needs_background": "light"
          }
        }
      ],
      "source": [
        "# Outlet_Size column\n",
        "plt.figure(figsize=(6,6))\n",
        "sns.countplot(x='Outlet_Size', data=big_mart_data)\n",
        "plt.show()"
      ]
    },
    {
      "cell_type": "markdown",
      "metadata": {
        "id": "adBk67n8GjAH"
      },
      "source": [
        "Data Pre-Processing"
      ]
    },
    {
      "cell_type": "code",
      "execution_count": null,
      "metadata": {
        "colab": {
          "base_uri": "https://localhost:8080/",
          "height": 357
        },
        "id": "KhYlm6NiGYa6",
        "outputId": "3ee51f6b-e699-4795-e5e3-63861a7af593"
      },
      "outputs": [
        {
          "output_type": "execute_result",
          "data": {
            "text/plain": [
              "  Item_Identifier  Item_Weight Item_Fat_Content  Item_Visibility  \\\n",
              "0           FDA15         9.30          Low Fat         0.016047   \n",
              "1           DRC01         5.92          Regular         0.019278   \n",
              "2           FDN15        17.50          Low Fat         0.016760   \n",
              "3           FDX07        19.20          Regular         0.000000   \n",
              "4           NCD19         8.93          Low Fat         0.000000   \n",
              "\n",
              "               Item_Type  Item_MRP Outlet_Identifier  \\\n",
              "0                  Dairy  249.8092            OUT049   \n",
              "1            Soft Drinks   48.2692            OUT018   \n",
              "2                   Meat  141.6180            OUT049   \n",
              "3  Fruits and Vegetables  182.0950            OUT010   \n",
              "4              Household   53.8614            OUT013   \n",
              "\n",
              "   Outlet_Establishment_Year Outlet_Size Outlet_Location_Type  \\\n",
              "0                       1999      Medium               Tier 1   \n",
              "1                       2009      Medium               Tier 3   \n",
              "2                       1999      Medium               Tier 1   \n",
              "3                       1998       Small               Tier 3   \n",
              "4                       1987        High               Tier 3   \n",
              "\n",
              "         Outlet_Type  Item_Outlet_Sales  \n",
              "0  Supermarket Type1          3735.1380  \n",
              "1  Supermarket Type2           443.4228  \n",
              "2  Supermarket Type1          2097.2700  \n",
              "3      Grocery Store           732.3800  \n",
              "4  Supermarket Type1           994.7052  "
            ],
            "text/html": [
              "\n",
              "  <div id=\"df-da0ac0d5-542e-455a-976e-1e20bce36cc4\">\n",
              "    <div class=\"colab-df-container\">\n",
              "      <div>\n",
              "<style scoped>\n",
              "    .dataframe tbody tr th:only-of-type {\n",
              "        vertical-align: middle;\n",
              "    }\n",
              "\n",
              "    .dataframe tbody tr th {\n",
              "        vertical-align: top;\n",
              "    }\n",
              "\n",
              "    .dataframe thead th {\n",
              "        text-align: right;\n",
              "    }\n",
              "</style>\n",
              "<table border=\"1\" class=\"dataframe\">\n",
              "  <thead>\n",
              "    <tr style=\"text-align: right;\">\n",
              "      <th></th>\n",
              "      <th>Item_Identifier</th>\n",
              "      <th>Item_Weight</th>\n",
              "      <th>Item_Fat_Content</th>\n",
              "      <th>Item_Visibility</th>\n",
              "      <th>Item_Type</th>\n",
              "      <th>Item_MRP</th>\n",
              "      <th>Outlet_Identifier</th>\n",
              "      <th>Outlet_Establishment_Year</th>\n",
              "      <th>Outlet_Size</th>\n",
              "      <th>Outlet_Location_Type</th>\n",
              "      <th>Outlet_Type</th>\n",
              "      <th>Item_Outlet_Sales</th>\n",
              "    </tr>\n",
              "  </thead>\n",
              "  <tbody>\n",
              "    <tr>\n",
              "      <th>0</th>\n",
              "      <td>FDA15</td>\n",
              "      <td>9.30</td>\n",
              "      <td>Low Fat</td>\n",
              "      <td>0.016047</td>\n",
              "      <td>Dairy</td>\n",
              "      <td>249.8092</td>\n",
              "      <td>OUT049</td>\n",
              "      <td>1999</td>\n",
              "      <td>Medium</td>\n",
              "      <td>Tier 1</td>\n",
              "      <td>Supermarket Type1</td>\n",
              "      <td>3735.1380</td>\n",
              "    </tr>\n",
              "    <tr>\n",
              "      <th>1</th>\n",
              "      <td>DRC01</td>\n",
              "      <td>5.92</td>\n",
              "      <td>Regular</td>\n",
              "      <td>0.019278</td>\n",
              "      <td>Soft Drinks</td>\n",
              "      <td>48.2692</td>\n",
              "      <td>OUT018</td>\n",
              "      <td>2009</td>\n",
              "      <td>Medium</td>\n",
              "      <td>Tier 3</td>\n",
              "      <td>Supermarket Type2</td>\n",
              "      <td>443.4228</td>\n",
              "    </tr>\n",
              "    <tr>\n",
              "      <th>2</th>\n",
              "      <td>FDN15</td>\n",
              "      <td>17.50</td>\n",
              "      <td>Low Fat</td>\n",
              "      <td>0.016760</td>\n",
              "      <td>Meat</td>\n",
              "      <td>141.6180</td>\n",
              "      <td>OUT049</td>\n",
              "      <td>1999</td>\n",
              "      <td>Medium</td>\n",
              "      <td>Tier 1</td>\n",
              "      <td>Supermarket Type1</td>\n",
              "      <td>2097.2700</td>\n",
              "    </tr>\n",
              "    <tr>\n",
              "      <th>3</th>\n",
              "      <td>FDX07</td>\n",
              "      <td>19.20</td>\n",
              "      <td>Regular</td>\n",
              "      <td>0.000000</td>\n",
              "      <td>Fruits and Vegetables</td>\n",
              "      <td>182.0950</td>\n",
              "      <td>OUT010</td>\n",
              "      <td>1998</td>\n",
              "      <td>Small</td>\n",
              "      <td>Tier 3</td>\n",
              "      <td>Grocery Store</td>\n",
              "      <td>732.3800</td>\n",
              "    </tr>\n",
              "    <tr>\n",
              "      <th>4</th>\n",
              "      <td>NCD19</td>\n",
              "      <td>8.93</td>\n",
              "      <td>Low Fat</td>\n",
              "      <td>0.000000</td>\n",
              "      <td>Household</td>\n",
              "      <td>53.8614</td>\n",
              "      <td>OUT013</td>\n",
              "      <td>1987</td>\n",
              "      <td>High</td>\n",
              "      <td>Tier 3</td>\n",
              "      <td>Supermarket Type1</td>\n",
              "      <td>994.7052</td>\n",
              "    </tr>\n",
              "  </tbody>\n",
              "</table>\n",
              "</div>\n",
              "      <button class=\"colab-df-convert\" onclick=\"convertToInteractive('df-da0ac0d5-542e-455a-976e-1e20bce36cc4')\"\n",
              "              title=\"Convert this dataframe to an interactive table.\"\n",
              "              style=\"display:none;\">\n",
              "        \n",
              "  <svg xmlns=\"http://www.w3.org/2000/svg\" height=\"24px\"viewBox=\"0 0 24 24\"\n",
              "       width=\"24px\">\n",
              "    <path d=\"M0 0h24v24H0V0z\" fill=\"none\"/>\n",
              "    <path d=\"M18.56 5.44l.94 2.06.94-2.06 2.06-.94-2.06-.94-.94-2.06-.94 2.06-2.06.94zm-11 1L8.5 8.5l.94-2.06 2.06-.94-2.06-.94L8.5 2.5l-.94 2.06-2.06.94zm10 10l.94 2.06.94-2.06 2.06-.94-2.06-.94-.94-2.06-.94 2.06-2.06.94z\"/><path d=\"M17.41 7.96l-1.37-1.37c-.4-.4-.92-.59-1.43-.59-.52 0-1.04.2-1.43.59L10.3 9.45l-7.72 7.72c-.78.78-.78 2.05 0 2.83L4 21.41c.39.39.9.59 1.41.59.51 0 1.02-.2 1.41-.59l7.78-7.78 2.81-2.81c.8-.78.8-2.07 0-2.86zM5.41 20L4 18.59l7.72-7.72 1.47 1.35L5.41 20z\"/>\n",
              "  </svg>\n",
              "      </button>\n",
              "      \n",
              "  <style>\n",
              "    .colab-df-container {\n",
              "      display:flex;\n",
              "      flex-wrap:wrap;\n",
              "      gap: 12px;\n",
              "    }\n",
              "\n",
              "    .colab-df-convert {\n",
              "      background-color: #E8F0FE;\n",
              "      border: none;\n",
              "      border-radius: 50%;\n",
              "      cursor: pointer;\n",
              "      display: none;\n",
              "      fill: #1967D2;\n",
              "      height: 32px;\n",
              "      padding: 0 0 0 0;\n",
              "      width: 32px;\n",
              "    }\n",
              "\n",
              "    .colab-df-convert:hover {\n",
              "      background-color: #E2EBFA;\n",
              "      box-shadow: 0px 1px 2px rgba(60, 64, 67, 0.3), 0px 1px 3px 1px rgba(60, 64, 67, 0.15);\n",
              "      fill: #174EA6;\n",
              "    }\n",
              "\n",
              "    [theme=dark] .colab-df-convert {\n",
              "      background-color: #3B4455;\n",
              "      fill: #D2E3FC;\n",
              "    }\n",
              "\n",
              "    [theme=dark] .colab-df-convert:hover {\n",
              "      background-color: #434B5C;\n",
              "      box-shadow: 0px 1px 3px 1px rgba(0, 0, 0, 0.15);\n",
              "      filter: drop-shadow(0px 1px 2px rgba(0, 0, 0, 0.3));\n",
              "      fill: #FFFFFF;\n",
              "    }\n",
              "  </style>\n",
              "\n",
              "      <script>\n",
              "        const buttonEl =\n",
              "          document.querySelector('#df-da0ac0d5-542e-455a-976e-1e20bce36cc4 button.colab-df-convert');\n",
              "        buttonEl.style.display =\n",
              "          google.colab.kernel.accessAllowed ? 'block' : 'none';\n",
              "\n",
              "        async function convertToInteractive(key) {\n",
              "          const element = document.querySelector('#df-da0ac0d5-542e-455a-976e-1e20bce36cc4');\n",
              "          const dataTable =\n",
              "            await google.colab.kernel.invokeFunction('convertToInteractive',\n",
              "                                                     [key], {});\n",
              "          if (!dataTable) return;\n",
              "\n",
              "          const docLinkHtml = 'Like what you see? Visit the ' +\n",
              "            '<a target=\"_blank\" href=https://colab.research.google.com/notebooks/data_table.ipynb>data table notebook</a>'\n",
              "            + ' to learn more about interactive tables.';\n",
              "          element.innerHTML = '';\n",
              "          dataTable['output_type'] = 'display_data';\n",
              "          await google.colab.output.renderOutput(dataTable, element);\n",
              "          const docLink = document.createElement('div');\n",
              "          docLink.innerHTML = docLinkHtml;\n",
              "          element.appendChild(docLink);\n",
              "        }\n",
              "      </script>\n",
              "    </div>\n",
              "  </div>\n",
              "  "
            ]
          },
          "metadata": {},
          "execution_count": 143
        }
      ],
      "source": [
        "big_mart_data.head()"
      ]
    },
    {
      "cell_type": "code",
      "execution_count": null,
      "metadata": {
        "colab": {
          "base_uri": "https://localhost:8080/"
        },
        "id": "i2N8zbcdGnUy",
        "outputId": "2c017d2a-aa74-4125-afe6-adc625fd9c25"
      },
      "outputs": [
        {
          "output_type": "execute_result",
          "data": {
            "text/plain": [
              "Low Fat    5089\n",
              "Regular    2889\n",
              "LF          316\n",
              "reg         117\n",
              "low fat     112\n",
              "Name: Item_Fat_Content, dtype: int64"
            ]
          },
          "metadata": {},
          "execution_count": 144
        }
      ],
      "source": [
        "big_mart_data['Item_Fat_Content'].value_counts()"
      ]
    },
    {
      "cell_type": "code",
      "execution_count": null,
      "metadata": {
        "id": "29VZp_RaG2W-"
      },
      "outputs": [],
      "source": [
        "big_mart_data.replace({'Item_Fat_Content': {'low fat':'Low Fat','LF':'Low Fat', 'reg':'Regular'}}, inplace=True)"
      ]
    },
    {
      "cell_type": "code",
      "execution_count": null,
      "metadata": {
        "colab": {
          "base_uri": "https://localhost:8080/"
        },
        "id": "-Ejg24CTHRXJ",
        "outputId": "960f537f-02f0-42de-803f-3312dd8ba167"
      },
      "outputs": [
        {
          "output_type": "execute_result",
          "data": {
            "text/plain": [
              "Low Fat    5517\n",
              "Regular    3006\n",
              "Name: Item_Fat_Content, dtype: int64"
            ]
          },
          "metadata": {},
          "execution_count": 146
        }
      ],
      "source": [
        "big_mart_data['Item_Fat_Content'].value_counts()"
      ]
    },
    {
      "cell_type": "markdown",
      "metadata": {
        "id": "ejF2MIecUYHg"
      },
      "source": [
        "Ordinal coding"
      ]
    },
    {
      "cell_type": "code",
      "execution_count": null,
      "metadata": {
        "id": "9SQyKgdoUWni"
      },
      "outputs": [],
      "source": [
        "catcol = big_mart_data.select_dtypes(object).columns"
      ]
    },
    {
      "cell_type": "code",
      "execution_count": null,
      "metadata": {
        "id": "JkIyNppMUkNo"
      },
      "outputs": [],
      "source": [
        "from sklearn.preprocessing import OrdinalEncoder\n",
        "oe = OrdinalEncoder()\n",
        "big_mart_data[catcol] =oe.fit_transform(big_mart_data[catcol])"
      ]
    },
    {
      "cell_type": "code",
      "execution_count": null,
      "metadata": {
        "colab": {
          "base_uri": "https://localhost:8080/",
          "height": 270
        },
        "id": "lTdUL8bnUw9J",
        "outputId": "5933fb24-e7e1-488c-8747-75e82b4396d5"
      },
      "outputs": [
        {
          "output_type": "execute_result",
          "data": {
            "text/plain": [
              "   Item_Identifier  Item_Weight  Item_Fat_Content  Item_Visibility  Item_Type  \\\n",
              "0            156.0         9.30               0.0         0.016047        4.0   \n",
              "1              8.0         5.92               1.0         0.019278       14.0   \n",
              "2            662.0        17.50               0.0         0.016760       10.0   \n",
              "3           1121.0        19.20               1.0         0.000000        6.0   \n",
              "4           1297.0         8.93               0.0         0.000000        9.0   \n",
              "\n",
              "   Item_MRP  Outlet_Identifier  Outlet_Establishment_Year  Outlet_Size  \\\n",
              "0  249.8092                9.0                       1999          1.0   \n",
              "1   48.2692                3.0                       2009          1.0   \n",
              "2  141.6180                9.0                       1999          1.0   \n",
              "3  182.0950                0.0                       1998          2.0   \n",
              "4   53.8614                1.0                       1987          0.0   \n",
              "\n",
              "   Outlet_Location_Type  Outlet_Type  Item_Outlet_Sales  \n",
              "0                   0.0          1.0          3735.1380  \n",
              "1                   2.0          2.0           443.4228  \n",
              "2                   0.0          1.0          2097.2700  \n",
              "3                   2.0          0.0           732.3800  \n",
              "4                   2.0          1.0           994.7052  "
            ],
            "text/html": [
              "\n",
              "  <div id=\"df-1d5944d7-b850-46e7-af31-3ada2c790a74\">\n",
              "    <div class=\"colab-df-container\">\n",
              "      <div>\n",
              "<style scoped>\n",
              "    .dataframe tbody tr th:only-of-type {\n",
              "        vertical-align: middle;\n",
              "    }\n",
              "\n",
              "    .dataframe tbody tr th {\n",
              "        vertical-align: top;\n",
              "    }\n",
              "\n",
              "    .dataframe thead th {\n",
              "        text-align: right;\n",
              "    }\n",
              "</style>\n",
              "<table border=\"1\" class=\"dataframe\">\n",
              "  <thead>\n",
              "    <tr style=\"text-align: right;\">\n",
              "      <th></th>\n",
              "      <th>Item_Identifier</th>\n",
              "      <th>Item_Weight</th>\n",
              "      <th>Item_Fat_Content</th>\n",
              "      <th>Item_Visibility</th>\n",
              "      <th>Item_Type</th>\n",
              "      <th>Item_MRP</th>\n",
              "      <th>Outlet_Identifier</th>\n",
              "      <th>Outlet_Establishment_Year</th>\n",
              "      <th>Outlet_Size</th>\n",
              "      <th>Outlet_Location_Type</th>\n",
              "      <th>Outlet_Type</th>\n",
              "      <th>Item_Outlet_Sales</th>\n",
              "    </tr>\n",
              "  </thead>\n",
              "  <tbody>\n",
              "    <tr>\n",
              "      <th>0</th>\n",
              "      <td>156.0</td>\n",
              "      <td>9.30</td>\n",
              "      <td>0.0</td>\n",
              "      <td>0.016047</td>\n",
              "      <td>4.0</td>\n",
              "      <td>249.8092</td>\n",
              "      <td>9.0</td>\n",
              "      <td>1999</td>\n",
              "      <td>1.0</td>\n",
              "      <td>0.0</td>\n",
              "      <td>1.0</td>\n",
              "      <td>3735.1380</td>\n",
              "    </tr>\n",
              "    <tr>\n",
              "      <th>1</th>\n",
              "      <td>8.0</td>\n",
              "      <td>5.92</td>\n",
              "      <td>1.0</td>\n",
              "      <td>0.019278</td>\n",
              "      <td>14.0</td>\n",
              "      <td>48.2692</td>\n",
              "      <td>3.0</td>\n",
              "      <td>2009</td>\n",
              "      <td>1.0</td>\n",
              "      <td>2.0</td>\n",
              "      <td>2.0</td>\n",
              "      <td>443.4228</td>\n",
              "    </tr>\n",
              "    <tr>\n",
              "      <th>2</th>\n",
              "      <td>662.0</td>\n",
              "      <td>17.50</td>\n",
              "      <td>0.0</td>\n",
              "      <td>0.016760</td>\n",
              "      <td>10.0</td>\n",
              "      <td>141.6180</td>\n",
              "      <td>9.0</td>\n",
              "      <td>1999</td>\n",
              "      <td>1.0</td>\n",
              "      <td>0.0</td>\n",
              "      <td>1.0</td>\n",
              "      <td>2097.2700</td>\n",
              "    </tr>\n",
              "    <tr>\n",
              "      <th>3</th>\n",
              "      <td>1121.0</td>\n",
              "      <td>19.20</td>\n",
              "      <td>1.0</td>\n",
              "      <td>0.000000</td>\n",
              "      <td>6.0</td>\n",
              "      <td>182.0950</td>\n",
              "      <td>0.0</td>\n",
              "      <td>1998</td>\n",
              "      <td>2.0</td>\n",
              "      <td>2.0</td>\n",
              "      <td>0.0</td>\n",
              "      <td>732.3800</td>\n",
              "    </tr>\n",
              "    <tr>\n",
              "      <th>4</th>\n",
              "      <td>1297.0</td>\n",
              "      <td>8.93</td>\n",
              "      <td>0.0</td>\n",
              "      <td>0.000000</td>\n",
              "      <td>9.0</td>\n",
              "      <td>53.8614</td>\n",
              "      <td>1.0</td>\n",
              "      <td>1987</td>\n",
              "      <td>0.0</td>\n",
              "      <td>2.0</td>\n",
              "      <td>1.0</td>\n",
              "      <td>994.7052</td>\n",
              "    </tr>\n",
              "  </tbody>\n",
              "</table>\n",
              "</div>\n",
              "      <button class=\"colab-df-convert\" onclick=\"convertToInteractive('df-1d5944d7-b850-46e7-af31-3ada2c790a74')\"\n",
              "              title=\"Convert this dataframe to an interactive table.\"\n",
              "              style=\"display:none;\">\n",
              "        \n",
              "  <svg xmlns=\"http://www.w3.org/2000/svg\" height=\"24px\"viewBox=\"0 0 24 24\"\n",
              "       width=\"24px\">\n",
              "    <path d=\"M0 0h24v24H0V0z\" fill=\"none\"/>\n",
              "    <path d=\"M18.56 5.44l.94 2.06.94-2.06 2.06-.94-2.06-.94-.94-2.06-.94 2.06-2.06.94zm-11 1L8.5 8.5l.94-2.06 2.06-.94-2.06-.94L8.5 2.5l-.94 2.06-2.06.94zm10 10l.94 2.06.94-2.06 2.06-.94-2.06-.94-.94-2.06-.94 2.06-2.06.94z\"/><path d=\"M17.41 7.96l-1.37-1.37c-.4-.4-.92-.59-1.43-.59-.52 0-1.04.2-1.43.59L10.3 9.45l-7.72 7.72c-.78.78-.78 2.05 0 2.83L4 21.41c.39.39.9.59 1.41.59.51 0 1.02-.2 1.41-.59l7.78-7.78 2.81-2.81c.8-.78.8-2.07 0-2.86zM5.41 20L4 18.59l7.72-7.72 1.47 1.35L5.41 20z\"/>\n",
              "  </svg>\n",
              "      </button>\n",
              "      \n",
              "  <style>\n",
              "    .colab-df-container {\n",
              "      display:flex;\n",
              "      flex-wrap:wrap;\n",
              "      gap: 12px;\n",
              "    }\n",
              "\n",
              "    .colab-df-convert {\n",
              "      background-color: #E8F0FE;\n",
              "      border: none;\n",
              "      border-radius: 50%;\n",
              "      cursor: pointer;\n",
              "      display: none;\n",
              "      fill: #1967D2;\n",
              "      height: 32px;\n",
              "      padding: 0 0 0 0;\n",
              "      width: 32px;\n",
              "    }\n",
              "\n",
              "    .colab-df-convert:hover {\n",
              "      background-color: #E2EBFA;\n",
              "      box-shadow: 0px 1px 2px rgba(60, 64, 67, 0.3), 0px 1px 3px 1px rgba(60, 64, 67, 0.15);\n",
              "      fill: #174EA6;\n",
              "    }\n",
              "\n",
              "    [theme=dark] .colab-df-convert {\n",
              "      background-color: #3B4455;\n",
              "      fill: #D2E3FC;\n",
              "    }\n",
              "\n",
              "    [theme=dark] .colab-df-convert:hover {\n",
              "      background-color: #434B5C;\n",
              "      box-shadow: 0px 1px 3px 1px rgba(0, 0, 0, 0.15);\n",
              "      filter: drop-shadow(0px 1px 2px rgba(0, 0, 0, 0.3));\n",
              "      fill: #FFFFFF;\n",
              "    }\n",
              "  </style>\n",
              "\n",
              "      <script>\n",
              "        const buttonEl =\n",
              "          document.querySelector('#df-1d5944d7-b850-46e7-af31-3ada2c790a74 button.colab-df-convert');\n",
              "        buttonEl.style.display =\n",
              "          google.colab.kernel.accessAllowed ? 'block' : 'none';\n",
              "\n",
              "        async function convertToInteractive(key) {\n",
              "          const element = document.querySelector('#df-1d5944d7-b850-46e7-af31-3ada2c790a74');\n",
              "          const dataTable =\n",
              "            await google.colab.kernel.invokeFunction('convertToInteractive',\n",
              "                                                     [key], {});\n",
              "          if (!dataTable) return;\n",
              "\n",
              "          const docLinkHtml = 'Like what you see? Visit the ' +\n",
              "            '<a target=\"_blank\" href=https://colab.research.google.com/notebooks/data_table.ipynb>data table notebook</a>'\n",
              "            + ' to learn more about interactive tables.';\n",
              "          element.innerHTML = '';\n",
              "          dataTable['output_type'] = 'display_data';\n",
              "          await google.colab.output.renderOutput(dataTable, element);\n",
              "          const docLink = document.createElement('div');\n",
              "          docLink.innerHTML = docLinkHtml;\n",
              "          element.appendChild(docLink);\n",
              "        }\n",
              "      </script>\n",
              "    </div>\n",
              "  </div>\n",
              "  "
            ]
          },
          "metadata": {},
          "execution_count": 149
        }
      ],
      "source": [
        "big_mart_data.head()"
      ]
    },
    {
      "cell_type": "code",
      "execution_count": null,
      "metadata": {
        "colab": {
          "base_uri": "https://localhost:8080/",
          "height": 270
        },
        "id": "SzL_IgO1IVUv",
        "outputId": "9374d266-8b31-4c53-b521-037476fd7806"
      },
      "outputs": [
        {
          "output_type": "execute_result",
          "data": {
            "text/plain": [
              "   Item_Identifier  Item_Weight  Item_Fat_Content  Item_Visibility  Item_Type  \\\n",
              "0            156.0         9.30               0.0         0.016047        4.0   \n",
              "1              8.0         5.92               1.0         0.019278       14.0   \n",
              "2            662.0        17.50               0.0         0.016760       10.0   \n",
              "3           1121.0        19.20               1.0         0.000000        6.0   \n",
              "4           1297.0         8.93               0.0         0.000000        9.0   \n",
              "\n",
              "   Item_MRP  Outlet_Identifier  Outlet_Establishment_Year  Outlet_Size  \\\n",
              "0  249.8092                9.0                       1999          1.0   \n",
              "1   48.2692                3.0                       2009          1.0   \n",
              "2  141.6180                9.0                       1999          1.0   \n",
              "3  182.0950                0.0                       1998          2.0   \n",
              "4   53.8614                1.0                       1987          0.0   \n",
              "\n",
              "   Outlet_Location_Type  Outlet_Type  Item_Outlet_Sales  \n",
              "0                   0.0          1.0          3735.1380  \n",
              "1                   2.0          2.0           443.4228  \n",
              "2                   0.0          1.0          2097.2700  \n",
              "3                   2.0          0.0           732.3800  \n",
              "4                   2.0          1.0           994.7052  "
            ],
            "text/html": [
              "\n",
              "  <div id=\"df-7e090f5d-e3fc-460b-b964-a32d96f61032\">\n",
              "    <div class=\"colab-df-container\">\n",
              "      <div>\n",
              "<style scoped>\n",
              "    .dataframe tbody tr th:only-of-type {\n",
              "        vertical-align: middle;\n",
              "    }\n",
              "\n",
              "    .dataframe tbody tr th {\n",
              "        vertical-align: top;\n",
              "    }\n",
              "\n",
              "    .dataframe thead th {\n",
              "        text-align: right;\n",
              "    }\n",
              "</style>\n",
              "<table border=\"1\" class=\"dataframe\">\n",
              "  <thead>\n",
              "    <tr style=\"text-align: right;\">\n",
              "      <th></th>\n",
              "      <th>Item_Identifier</th>\n",
              "      <th>Item_Weight</th>\n",
              "      <th>Item_Fat_Content</th>\n",
              "      <th>Item_Visibility</th>\n",
              "      <th>Item_Type</th>\n",
              "      <th>Item_MRP</th>\n",
              "      <th>Outlet_Identifier</th>\n",
              "      <th>Outlet_Establishment_Year</th>\n",
              "      <th>Outlet_Size</th>\n",
              "      <th>Outlet_Location_Type</th>\n",
              "      <th>Outlet_Type</th>\n",
              "      <th>Item_Outlet_Sales</th>\n",
              "    </tr>\n",
              "  </thead>\n",
              "  <tbody>\n",
              "    <tr>\n",
              "      <th>0</th>\n",
              "      <td>156.0</td>\n",
              "      <td>9.30</td>\n",
              "      <td>0.0</td>\n",
              "      <td>0.016047</td>\n",
              "      <td>4.0</td>\n",
              "      <td>249.8092</td>\n",
              "      <td>9.0</td>\n",
              "      <td>1999</td>\n",
              "      <td>1.0</td>\n",
              "      <td>0.0</td>\n",
              "      <td>1.0</td>\n",
              "      <td>3735.1380</td>\n",
              "    </tr>\n",
              "    <tr>\n",
              "      <th>1</th>\n",
              "      <td>8.0</td>\n",
              "      <td>5.92</td>\n",
              "      <td>1.0</td>\n",
              "      <td>0.019278</td>\n",
              "      <td>14.0</td>\n",
              "      <td>48.2692</td>\n",
              "      <td>3.0</td>\n",
              "      <td>2009</td>\n",
              "      <td>1.0</td>\n",
              "      <td>2.0</td>\n",
              "      <td>2.0</td>\n",
              "      <td>443.4228</td>\n",
              "    </tr>\n",
              "    <tr>\n",
              "      <th>2</th>\n",
              "      <td>662.0</td>\n",
              "      <td>17.50</td>\n",
              "      <td>0.0</td>\n",
              "      <td>0.016760</td>\n",
              "      <td>10.0</td>\n",
              "      <td>141.6180</td>\n",
              "      <td>9.0</td>\n",
              "      <td>1999</td>\n",
              "      <td>1.0</td>\n",
              "      <td>0.0</td>\n",
              "      <td>1.0</td>\n",
              "      <td>2097.2700</td>\n",
              "    </tr>\n",
              "    <tr>\n",
              "      <th>3</th>\n",
              "      <td>1121.0</td>\n",
              "      <td>19.20</td>\n",
              "      <td>1.0</td>\n",
              "      <td>0.000000</td>\n",
              "      <td>6.0</td>\n",
              "      <td>182.0950</td>\n",
              "      <td>0.0</td>\n",
              "      <td>1998</td>\n",
              "      <td>2.0</td>\n",
              "      <td>2.0</td>\n",
              "      <td>0.0</td>\n",
              "      <td>732.3800</td>\n",
              "    </tr>\n",
              "    <tr>\n",
              "      <th>4</th>\n",
              "      <td>1297.0</td>\n",
              "      <td>8.93</td>\n",
              "      <td>0.0</td>\n",
              "      <td>0.000000</td>\n",
              "      <td>9.0</td>\n",
              "      <td>53.8614</td>\n",
              "      <td>1.0</td>\n",
              "      <td>1987</td>\n",
              "      <td>0.0</td>\n",
              "      <td>2.0</td>\n",
              "      <td>1.0</td>\n",
              "      <td>994.7052</td>\n",
              "    </tr>\n",
              "  </tbody>\n",
              "</table>\n",
              "</div>\n",
              "      <button class=\"colab-df-convert\" onclick=\"convertToInteractive('df-7e090f5d-e3fc-460b-b964-a32d96f61032')\"\n",
              "              title=\"Convert this dataframe to an interactive table.\"\n",
              "              style=\"display:none;\">\n",
              "        \n",
              "  <svg xmlns=\"http://www.w3.org/2000/svg\" height=\"24px\"viewBox=\"0 0 24 24\"\n",
              "       width=\"24px\">\n",
              "    <path d=\"M0 0h24v24H0V0z\" fill=\"none\"/>\n",
              "    <path d=\"M18.56 5.44l.94 2.06.94-2.06 2.06-.94-2.06-.94-.94-2.06-.94 2.06-2.06.94zm-11 1L8.5 8.5l.94-2.06 2.06-.94-2.06-.94L8.5 2.5l-.94 2.06-2.06.94zm10 10l.94 2.06.94-2.06 2.06-.94-2.06-.94-.94-2.06-.94 2.06-2.06.94z\"/><path d=\"M17.41 7.96l-1.37-1.37c-.4-.4-.92-.59-1.43-.59-.52 0-1.04.2-1.43.59L10.3 9.45l-7.72 7.72c-.78.78-.78 2.05 0 2.83L4 21.41c.39.39.9.59 1.41.59.51 0 1.02-.2 1.41-.59l7.78-7.78 2.81-2.81c.8-.78.8-2.07 0-2.86zM5.41 20L4 18.59l7.72-7.72 1.47 1.35L5.41 20z\"/>\n",
              "  </svg>\n",
              "      </button>\n",
              "      \n",
              "  <style>\n",
              "    .colab-df-container {\n",
              "      display:flex;\n",
              "      flex-wrap:wrap;\n",
              "      gap: 12px;\n",
              "    }\n",
              "\n",
              "    .colab-df-convert {\n",
              "      background-color: #E8F0FE;\n",
              "      border: none;\n",
              "      border-radius: 50%;\n",
              "      cursor: pointer;\n",
              "      display: none;\n",
              "      fill: #1967D2;\n",
              "      height: 32px;\n",
              "      padding: 0 0 0 0;\n",
              "      width: 32px;\n",
              "    }\n",
              "\n",
              "    .colab-df-convert:hover {\n",
              "      background-color: #E2EBFA;\n",
              "      box-shadow: 0px 1px 2px rgba(60, 64, 67, 0.3), 0px 1px 3px 1px rgba(60, 64, 67, 0.15);\n",
              "      fill: #174EA6;\n",
              "    }\n",
              "\n",
              "    [theme=dark] .colab-df-convert {\n",
              "      background-color: #3B4455;\n",
              "      fill: #D2E3FC;\n",
              "    }\n",
              "\n",
              "    [theme=dark] .colab-df-convert:hover {\n",
              "      background-color: #434B5C;\n",
              "      box-shadow: 0px 1px 3px 1px rgba(0, 0, 0, 0.15);\n",
              "      filter: drop-shadow(0px 1px 2px rgba(0, 0, 0, 0.3));\n",
              "      fill: #FFFFFF;\n",
              "    }\n",
              "  </style>\n",
              "\n",
              "      <script>\n",
              "        const buttonEl =\n",
              "          document.querySelector('#df-7e090f5d-e3fc-460b-b964-a32d96f61032 button.colab-df-convert');\n",
              "        buttonEl.style.display =\n",
              "          google.colab.kernel.accessAllowed ? 'block' : 'none';\n",
              "\n",
              "        async function convertToInteractive(key) {\n",
              "          const element = document.querySelector('#df-7e090f5d-e3fc-460b-b964-a32d96f61032');\n",
              "          const dataTable =\n",
              "            await google.colab.kernel.invokeFunction('convertToInteractive',\n",
              "                                                     [key], {});\n",
              "          if (!dataTable) return;\n",
              "\n",
              "          const docLinkHtml = 'Like what you see? Visit the ' +\n",
              "            '<a target=\"_blank\" href=https://colab.research.google.com/notebooks/data_table.ipynb>data table notebook</a>'\n",
              "            + ' to learn more about interactive tables.';\n",
              "          element.innerHTML = '';\n",
              "          dataTable['output_type'] = 'display_data';\n",
              "          await google.colab.output.renderOutput(dataTable, element);\n",
              "          const docLink = document.createElement('div');\n",
              "          docLink.innerHTML = docLinkHtml;\n",
              "          element.appendChild(docLink);\n",
              "        }\n",
              "      </script>\n",
              "    </div>\n",
              "  </div>\n",
              "  "
            ]
          },
          "metadata": {},
          "execution_count": 150
        }
      ],
      "source": [
        "big_mart_data.head()"
      ]
    },
    {
      "cell_type": "markdown",
      "metadata": {
        "id": "jr-0iqKOIdUD"
      },
      "source": [
        "Splitting data into features and Target"
      ]
    },
    {
      "cell_type": "code",
      "execution_count": null,
      "metadata": {
        "id": "DiRMZ-N6rwF1"
      },
      "outputs": [],
      "source": [
        "x = big_mart_data.iloc[:, :-1]\n",
        "y = big_mart_data.iloc[:, -1]"
      ]
    },
    {
      "cell_type": "code",
      "execution_count": null,
      "metadata": {
        "colab": {
          "base_uri": "https://localhost:8080/"
        },
        "id": "TKDLyvImIuTo",
        "outputId": "6edb484e-1bef-4c64-ef64-11752986adb5"
      },
      "outputs": [
        {
          "output_type": "stream",
          "name": "stdout",
          "text": [
            "      Item_Identifier  Item_Weight  Item_Fat_Content  Item_Visibility  \\\n",
            "0               156.0        9.300               0.0         0.016047   \n",
            "1                 8.0        5.920               1.0         0.019278   \n",
            "2               662.0       17.500               0.0         0.016760   \n",
            "3              1121.0       19.200               1.0         0.000000   \n",
            "4              1297.0        8.930               0.0         0.000000   \n",
            "...               ...          ...               ...              ...   \n",
            "8518            370.0        6.865               0.0         0.056783   \n",
            "8519            897.0        8.380               1.0         0.046982   \n",
            "8520           1357.0       10.600               0.0         0.035186   \n",
            "8521            681.0        7.210               1.0         0.145221   \n",
            "8522             50.0       14.800               0.0         0.044878   \n",
            "\n",
            "      Item_Type  Item_MRP  Outlet_Identifier  Outlet_Establishment_Year  \\\n",
            "0           4.0  249.8092                9.0                       1999   \n",
            "1          14.0   48.2692                3.0                       2009   \n",
            "2          10.0  141.6180                9.0                       1999   \n",
            "3           6.0  182.0950                0.0                       1998   \n",
            "4           9.0   53.8614                1.0                       1987   \n",
            "...         ...       ...                ...                        ...   \n",
            "8518       13.0  214.5218                1.0                       1987   \n",
            "8519        0.0  108.1570                7.0                       2002   \n",
            "8520        8.0   85.1224                6.0                       2004   \n",
            "8521       13.0  103.1332                3.0                       2009   \n",
            "8522       14.0   75.4670                8.0                       1997   \n",
            "\n",
            "      Outlet_Size  Outlet_Location_Type  Outlet_Type  \n",
            "0             1.0                   0.0          1.0  \n",
            "1             1.0                   2.0          2.0  \n",
            "2             1.0                   0.0          1.0  \n",
            "3             2.0                   2.0          0.0  \n",
            "4             0.0                   2.0          1.0  \n",
            "...           ...                   ...          ...  \n",
            "8518          0.0                   2.0          1.0  \n",
            "8519          2.0                   1.0          1.0  \n",
            "8520          2.0                   1.0          1.0  \n",
            "8521          1.0                   2.0          2.0  \n",
            "8522          2.0                   0.0          1.0  \n",
            "\n",
            "[8523 rows x 11 columns]\n"
          ]
        }
      ],
      "source": [
        "print(x)"
      ]
    },
    {
      "cell_type": "code",
      "execution_count": null,
      "metadata": {
        "colab": {
          "base_uri": "https://localhost:8080/"
        },
        "id": "WgbKCgaNIvd9",
        "outputId": "86d88420-0c87-423a-ff13-eb0a5acac159"
      },
      "outputs": [
        {
          "output_type": "stream",
          "name": "stdout",
          "text": [
            "0       3735.1380\n",
            "1        443.4228\n",
            "2       2097.2700\n",
            "3        732.3800\n",
            "4        994.7052\n",
            "          ...    \n",
            "8518    2778.3834\n",
            "8519     549.2850\n",
            "8520    1193.1136\n",
            "8521    1845.5976\n",
            "8522     765.6700\n",
            "Name: Item_Outlet_Sales, Length: 8523, dtype: float64\n"
          ]
        }
      ],
      "source": [
        "print(y)"
      ]
    },
    {
      "cell_type": "code",
      "execution_count": null,
      "metadata": {
        "id": "SovMKTiTrvCf"
      },
      "outputs": [],
      "source": [
        "from sklearn.model_selection import train_test_split\n",
        "xtrain, xtest, ytrain, ytest = train_test_split(x,y, test_size=0.3, random_state=1)"
      ]
    },
    {
      "cell_type": "markdown",
      "source": [
        "Create Model\n",
        "as the data is contineous type so use Regression"
      ],
      "metadata": {
        "id": "Nu3sLGEFImQ2"
      }
    },
    {
      "cell_type": "code",
      "execution_count": null,
      "metadata": {
        "id": "GDe3rLCEEkYb"
      },
      "outputs": [],
      "source": [
        "\n",
        "from sklearn.linear_model import LinearRegression\n",
        "linreg = LinearRegression()\n",
        "linreg.fit(xtrain, ytrain)\n",
        "ypred = linreg.predict(xtest)"
      ]
    },
    {
      "cell_type": "code",
      "execution_count": null,
      "metadata": {
        "id": "HTEM6jdLErcQ",
        "colab": {
          "base_uri": "https://localhost:8080/"
        },
        "outputId": "e7a8aa61-7f5d-4c9e-d105-8b3d5eefdeb3"
      },
      "outputs": [
        {
          "output_type": "stream",
          "name": "stdout",
          "text": [
            "0.5036092464135149\n"
          ]
        }
      ],
      "source": [
        "from sklearn.metrics import r2_score\n",
        "print(r2_score(ytest, ypred))"
      ]
    },
    {
      "cell_type": "code",
      "execution_count": null,
      "metadata": {
        "id": "XSjkpNh4Etng",
        "colab": {
          "base_uri": "https://localhost:8080/"
        },
        "outputId": "c8a76d1f-1751-4466-f011-2eca6ac1502b"
      },
      "outputs": [
        {
          "output_type": "stream",
          "name": "stdout",
          "text": [
            "Training Results -: 0.503414468435812\n",
            "Testing Results -: 0.5036092464135149\n"
          ]
        }
      ],
      "source": [
        "train = linreg.score(xtrain, ytrain)\n",
        "test = linreg.score(xtest, ytest)\n",
        "\n",
        "print(f\"Training Results -: {train}\")\n",
        "print(f\"Testing Results -: {test}\")\n"
      ]
    },
    {
      "cell_type": "code",
      "execution_count": null,
      "metadata": {
        "id": "dSJRdLzCEwBL",
        "colab": {
          "base_uri": "https://localhost:8080/"
        },
        "outputId": "6dfbbedd-024f-42eb-9e81-31dfb6e0e69e"
      },
      "outputs": [
        {
          "output_type": "execute_result",
          "data": {
            "text/plain": [
              "array([ 3.06474974e-02,  9.90240040e-01,  5.63640390e+01, -1.73076833e+03,\n",
              "        7.64865908e-01,  1.56945513e+01,  5.81898758e+01, -4.09334336e-01,\n",
              "       -1.30494754e+02, -9.26975450e+01,  8.27195483e+02])"
            ]
          },
          "metadata": {},
          "execution_count": 158
        }
      ],
      "source": [
        "linreg.coef_"
      ]
    },
    {
      "cell_type": "code",
      "execution_count": null,
      "metadata": {
        "id": "HrLIyQJnEztI"
      },
      "outputs": [],
      "source": [
        "from sklearn.linear_model import Ridge, Lasso\n",
        "l2 = Ridge(alpha=10)\n",
        "l2.fit(xtrain, ytrain)\n",
        "ypred = l2.predict(xtest)"
      ]
    },
    {
      "cell_type": "code",
      "execution_count": null,
      "metadata": {
        "id": "gn34L43JE2_m",
        "colab": {
          "base_uri": "https://localhost:8080/"
        },
        "outputId": "da58d231-5a53-48aa-a520-646f039349ae"
      },
      "outputs": [
        {
          "output_type": "stream",
          "name": "stdout",
          "text": [
            "Training Results -: 0.5029996672760273\n",
            "Testing Results -: 0.5036679769445449\n"
          ]
        }
      ],
      "source": [
        "train = l2.score(xtrain, ytrain)\n",
        "test = l2.score(xtest, ytest)\n",
        "\n",
        "print(f\"Training Results -: {train}\")\n",
        "print(f\"Testing Results -: {test}\")"
      ]
    },
    {
      "cell_type": "code",
      "execution_count": null,
      "metadata": {
        "id": "ooc4WJtAE5G5",
        "colab": {
          "base_uri": "https://localhost:8080/"
        },
        "outputId": "fdacb106-4af4-49d6-a37e-da14b64c8247"
      },
      "outputs": [
        {
          "output_type": "execute_result",
          "data": {
            "text/plain": [
              "array([ 3.25442858e-02,  1.05505826e+00,  5.35955151e+01, -1.03391333e+03,\n",
              "        1.02730547e+00,  1.56968672e+01,  6.11826931e+01,  5.26874413e-02,\n",
              "       -1.36595103e+02, -8.54796034e+01,  8.26481960e+02])"
            ]
          },
          "metadata": {},
          "execution_count": 161
        }
      ],
      "source": [
        "l2.coef_"
      ]
    },
    {
      "cell_type": "code",
      "execution_count": null,
      "metadata": {
        "id": "P4lIRL8YE8I4"
      },
      "outputs": [],
      "source": [
        "l1 = Lasso(alpha=10)\n",
        "l1.fit(xtrain, ytrain)\n",
        "ypred = l1.predict(xtest)"
      ]
    },
    {
      "cell_type": "code",
      "execution_count": null,
      "metadata": {
        "id": "7Vj6mqOjE-fq",
        "colab": {
          "base_uri": "https://localhost:8080/"
        },
        "outputId": "d1460822-44d6-4cb6-aab7-74b8971f3ef4"
      },
      "outputs": [
        {
          "output_type": "stream",
          "name": "stdout",
          "text": [
            "Training Results -: 0.5002417286350025\n",
            "Testing Results -: 0.5013024434672484\n"
          ]
        }
      ],
      "source": [
        "train = l1.score(xtrain, ytrain)\n",
        "test = l1.score(xtest, ytest)\n",
        "\n",
        "print(f\"Training Results -: {train}\")\n",
        "print(f\"Testing Results -: {test}\")"
      ]
    },
    {
      "cell_type": "code",
      "execution_count": null,
      "metadata": {
        "id": "eQshzywdu--U",
        "colab": {
          "base_uri": "https://localhost:8080/",
          "height": 394
        },
        "outputId": "98623d5c-c69d-416e-fb4c-323863813d4d"
      },
      "outputs": [
        {
          "output_type": "execute_result",
          "data": {
            "text/plain": [
              "                           Coefficients\n",
              "Item_Identifier                0.030647\n",
              "Item_Weight                    0.990240\n",
              "Item_Fat_Content              56.364039\n",
              "Item_Visibility            -1730.768332\n",
              "Item_Type                      0.764866\n",
              "Item_MRP                      15.694551\n",
              "Outlet_Identifier             58.189876\n",
              "Outlet_Establishment_Year     -0.409334\n",
              "Outlet_Size                 -130.494754\n",
              "Outlet_Location_Type         -92.697545\n",
              "Outlet_Type                  827.195483"
            ],
            "text/html": [
              "\n",
              "  <div id=\"df-28e92688-c12e-4b6a-85d6-09e72810f09c\">\n",
              "    <div class=\"colab-df-container\">\n",
              "      <div>\n",
              "<style scoped>\n",
              "    .dataframe tbody tr th:only-of-type {\n",
              "        vertical-align: middle;\n",
              "    }\n",
              "\n",
              "    .dataframe tbody tr th {\n",
              "        vertical-align: top;\n",
              "    }\n",
              "\n",
              "    .dataframe thead th {\n",
              "        text-align: right;\n",
              "    }\n",
              "</style>\n",
              "<table border=\"1\" class=\"dataframe\">\n",
              "  <thead>\n",
              "    <tr style=\"text-align: right;\">\n",
              "      <th></th>\n",
              "      <th>Coefficients</th>\n",
              "    </tr>\n",
              "  </thead>\n",
              "  <tbody>\n",
              "    <tr>\n",
              "      <th>Item_Identifier</th>\n",
              "      <td>0.030647</td>\n",
              "    </tr>\n",
              "    <tr>\n",
              "      <th>Item_Weight</th>\n",
              "      <td>0.990240</td>\n",
              "    </tr>\n",
              "    <tr>\n",
              "      <th>Item_Fat_Content</th>\n",
              "      <td>56.364039</td>\n",
              "    </tr>\n",
              "    <tr>\n",
              "      <th>Item_Visibility</th>\n",
              "      <td>-1730.768332</td>\n",
              "    </tr>\n",
              "    <tr>\n",
              "      <th>Item_Type</th>\n",
              "      <td>0.764866</td>\n",
              "    </tr>\n",
              "    <tr>\n",
              "      <th>Item_MRP</th>\n",
              "      <td>15.694551</td>\n",
              "    </tr>\n",
              "    <tr>\n",
              "      <th>Outlet_Identifier</th>\n",
              "      <td>58.189876</td>\n",
              "    </tr>\n",
              "    <tr>\n",
              "      <th>Outlet_Establishment_Year</th>\n",
              "      <td>-0.409334</td>\n",
              "    </tr>\n",
              "    <tr>\n",
              "      <th>Outlet_Size</th>\n",
              "      <td>-130.494754</td>\n",
              "    </tr>\n",
              "    <tr>\n",
              "      <th>Outlet_Location_Type</th>\n",
              "      <td>-92.697545</td>\n",
              "    </tr>\n",
              "    <tr>\n",
              "      <th>Outlet_Type</th>\n",
              "      <td>827.195483</td>\n",
              "    </tr>\n",
              "  </tbody>\n",
              "</table>\n",
              "</div>\n",
              "      <button class=\"colab-df-convert\" onclick=\"convertToInteractive('df-28e92688-c12e-4b6a-85d6-09e72810f09c')\"\n",
              "              title=\"Convert this dataframe to an interactive table.\"\n",
              "              style=\"display:none;\">\n",
              "        \n",
              "  <svg xmlns=\"http://www.w3.org/2000/svg\" height=\"24px\"viewBox=\"0 0 24 24\"\n",
              "       width=\"24px\">\n",
              "    <path d=\"M0 0h24v24H0V0z\" fill=\"none\"/>\n",
              "    <path d=\"M18.56 5.44l.94 2.06.94-2.06 2.06-.94-2.06-.94-.94-2.06-.94 2.06-2.06.94zm-11 1L8.5 8.5l.94-2.06 2.06-.94-2.06-.94L8.5 2.5l-.94 2.06-2.06.94zm10 10l.94 2.06.94-2.06 2.06-.94-2.06-.94-.94-2.06-.94 2.06-2.06.94z\"/><path d=\"M17.41 7.96l-1.37-1.37c-.4-.4-.92-.59-1.43-.59-.52 0-1.04.2-1.43.59L10.3 9.45l-7.72 7.72c-.78.78-.78 2.05 0 2.83L4 21.41c.39.39.9.59 1.41.59.51 0 1.02-.2 1.41-.59l7.78-7.78 2.81-2.81c.8-.78.8-2.07 0-2.86zM5.41 20L4 18.59l7.72-7.72 1.47 1.35L5.41 20z\"/>\n",
              "  </svg>\n",
              "      </button>\n",
              "      \n",
              "  <style>\n",
              "    .colab-df-container {\n",
              "      display:flex;\n",
              "      flex-wrap:wrap;\n",
              "      gap: 12px;\n",
              "    }\n",
              "\n",
              "    .colab-df-convert {\n",
              "      background-color: #E8F0FE;\n",
              "      border: none;\n",
              "      border-radius: 50%;\n",
              "      cursor: pointer;\n",
              "      display: none;\n",
              "      fill: #1967D2;\n",
              "      height: 32px;\n",
              "      padding: 0 0 0 0;\n",
              "      width: 32px;\n",
              "    }\n",
              "\n",
              "    .colab-df-convert:hover {\n",
              "      background-color: #E2EBFA;\n",
              "      box-shadow: 0px 1px 2px rgba(60, 64, 67, 0.3), 0px 1px 3px 1px rgba(60, 64, 67, 0.15);\n",
              "      fill: #174EA6;\n",
              "    }\n",
              "\n",
              "    [theme=dark] .colab-df-convert {\n",
              "      background-color: #3B4455;\n",
              "      fill: #D2E3FC;\n",
              "    }\n",
              "\n",
              "    [theme=dark] .colab-df-convert:hover {\n",
              "      background-color: #434B5C;\n",
              "      box-shadow: 0px 1px 3px 1px rgba(0, 0, 0, 0.15);\n",
              "      filter: drop-shadow(0px 1px 2px rgba(0, 0, 0, 0.3));\n",
              "      fill: #FFFFFF;\n",
              "    }\n",
              "  </style>\n",
              "\n",
              "      <script>\n",
              "        const buttonEl =\n",
              "          document.querySelector('#df-28e92688-c12e-4b6a-85d6-09e72810f09c button.colab-df-convert');\n",
              "        buttonEl.style.display =\n",
              "          google.colab.kernel.accessAllowed ? 'block' : 'none';\n",
              "\n",
              "        async function convertToInteractive(key) {\n",
              "          const element = document.querySelector('#df-28e92688-c12e-4b6a-85d6-09e72810f09c');\n",
              "          const dataTable =\n",
              "            await google.colab.kernel.invokeFunction('convertToInteractive',\n",
              "                                                     [key], {});\n",
              "          if (!dataTable) return;\n",
              "\n",
              "          const docLinkHtml = 'Like what you see? Visit the ' +\n",
              "            '<a target=\"_blank\" href=https://colab.research.google.com/notebooks/data_table.ipynb>data table notebook</a>'\n",
              "            + ' to learn more about interactive tables.';\n",
              "          element.innerHTML = '';\n",
              "          dataTable['output_type'] = 'display_data';\n",
              "          await google.colab.output.renderOutput(dataTable, element);\n",
              "          const docLink = document.createElement('div');\n",
              "          docLink.innerHTML = docLinkHtml;\n",
              "          element.appendChild(docLink);\n",
              "        }\n",
              "      </script>\n",
              "    </div>\n",
              "  </div>\n",
              "  "
            ]
          },
          "metadata": {},
          "execution_count": 164
        }
      ],
      "source": [
        "pd.DataFrame(linreg.coef_, index=x.columns, columns=[\"Coefficients\"])"
      ]
    },
    {
      "cell_type": "markdown",
      "metadata": {
        "id": "muTthnLeF1mp"
      },
      "source": [
        "Hypertuning"
      ]
    },
    {
      "cell_type": "code",
      "execution_count": null,
      "metadata": {
        "id": "mf3zumrqF3B4",
        "colab": {
          "base_uri": "https://localhost:8080/"
        },
        "outputId": "546eb8bd-2db5-472a-e6c8-e1649340a551"
      },
      "outputs": [
        {
          "output_type": "stream",
          "name": "stdout",
          "text": [
            "1  0.5032704372450689  0.5037140594196743\n",
            "2  0.5028395113493851  0.5035177065112044\n",
            "3  0.5021216531787518  0.503018156180747\n",
            "4  0.501118414203114  0.502202397641986\n",
            "5  0.5006565593391024  0.5017856820915321\n",
            "6  0.5005625370143668  0.501653881815689\n",
            "7  0.5004494730402962  0.5014970040355516\n",
            "8  0.50034269722673  0.5013622123886738\n",
            "9  0.5002950093160896  0.5013351845520344\n",
            "10  0.5002417286350025  0.5013024434672484\n",
            "11  0.5001828399920246  0.5012639459604187\n",
            "12  0.5001543578673966  0.5012536905310065\n",
            "13  0.5001246515463159  0.5012414157482461\n",
            "14  0.5000929068099353  0.5012237125765526\n",
            "15  0.5000588512418672  0.5012036756711409\n",
            "16  0.5000224409000553  0.5011812043857046\n",
            "17  0.49998368059246445  0.5011563098285531\n",
            "18  0.499942571542051  0.5011289946583932\n",
            "19  0.49989911374913343  0.5010992588759213\n",
            "20  0.4998533072127581  0.5010671024793819\n",
            "21  0.4998051519339759  0.5010325254708345\n",
            "22  0.49975487754228654  0.5009941849187115\n",
            "23  0.4997027944000709  0.5009514935988973\n",
            "24  0.49964839717515586  0.5009064153129468\n",
            "25  0.49959168592088654  0.5008589501631419\n",
            "26  0.4995326604754069  0.5008090978779842\n",
            "27  0.49947129150840297  0.5007567998157636\n",
            "28  0.4994076358437578  0.500702170763123\n",
            "29  0.4993416660763972  0.5006451547853846\n",
            "30  0.4992733822400691  0.500585751938581\n",
            "31  0.4992027843347737  0.5005239622227122\n",
            "32  0.499129872360511  0.5004597856377782\n",
            "33  0.4990546463172807  0.5003932221837788\n",
            "34  0.49897710419022645  0.5003242687525615\n",
            "35  0.4988972474847345  0.5002529277261774\n",
            "36  0.498815372291573  0.5001795920627292\n",
            "37  0.4987309436607755  0.5001035653845534\n",
            "38  0.4986442034239935  0.5000251545688483\n",
            "39  0.49855515158122676  0.499944359615614\n",
            "40  0.49846378813247527  0.4998611805248506\n",
            "41  0.4983701130621443  0.4997756172731397\n",
            "42  0.4982734468763388  0.4996866953419873\n",
            "43  0.49817505778487126  0.49959623060267955\n",
            "44  0.4980743536202368  0.4995033779015723\n",
            "45  0.49797133438243557  0.4994081372386655\n",
            "46  0.4978660000714672  0.499310508613959\n",
            "47  0.4977583506873322  0.49921049202745305\n",
            "48  0.49764838623003027  0.4991080874791475\n",
            "49  0.4975361066995614  0.4990032949690424\n",
            "50  0.49742151209592556  0.4988961144971378\n",
            "51  0.4973046024191229  0.49878654606343353\n",
            "52  0.4971853776691535  0.49867458966792977\n",
            "53  0.49706383784601704  0.49856024531062637\n",
            "54  0.49693998294971364  0.49844351299152345\n",
            "55  0.49683877757429995  0.49834899917536823\n",
            "56  0.49677672732882217  0.4982941323387675\n",
            "57  0.49671349118357433  0.4982379190931072\n",
            "58  0.4966491357930374  0.4981805825214288\n",
            "59  0.49658366115721153  0.49812212262373234\n",
            "60  0.4965170672760968  0.49806253940001766\n",
            "61  0.49644935414969293  0.4980018328502849\n",
            "62  0.49638056139152553  0.49794006662370294\n",
            "63  0.49631059805253963  0.49787708757717963\n",
            "64  0.4962395289538387  0.49781301372772346\n",
            "65  0.4961673403133845  0.49774781601579743\n",
            "66  0.496094031605807  0.49768149355659974\n",
            "67  0.49601960365797726  0.4976140477765515\n",
            "68  0.4959440564698956  0.49754547867565224\n",
            "69  0.4958673900415619  0.4974757862539023\n",
            "70  0.4957896043729759  0.4974049705113017\n",
            "71  0.49571069946413804  0.49733303144785046\n",
            "72  0.4956306753150479  0.4972599690635483\n",
            "73  0.4955495319257057  0.49718578335839536\n",
            "74  0.4954672692961114  0.49711047433239164\n",
            "75  0.49538388742626516  0.49703404198553747\n",
            "76  0.49529938631616666  0.4969564863178323\n",
            "77  0.4952137659658161  0.49687780732927644\n",
            "78  0.49512702637521344  0.4967980050198698\n",
            "79  0.49503916754435884  0.4967170793896124\n",
            "80  0.494950189473252  0.4966350304385043\n",
            "81  0.494860092161893  0.49655185816654557\n",
            "82  0.49476887561028193  0.4964675625737359\n",
            "83  0.49467653981841886  0.4963821436600756\n",
            "84  0.49458308478630375  0.4962956014255645\n",
            "85  0.4944885105139364  0.49620793587020273\n",
            "86  0.4943928170013169  0.49611914699399007\n",
            "87  0.494296004224834  0.4960292347646297\n",
            "88  0.4941980722025162  0.49593819920698645\n",
            "89  0.4940991256082182  0.49584620154299386\n",
            "90  0.49399892155258884  0.4957528581455303\n",
            "91  0.4938976087287513  0.4956584105822226\n",
            "92  0.4937952019635651  0.4955628847738629\n",
            "93  0.49369167599428043  0.49546623568194403\n",
            "94  0.4935870308208975  0.49536846330646644\n",
            "95  0.49348126644341606  0.4952695676474297\n",
            "96  0.4933743828618361  0.4951695487048339\n",
            "97  0.49326638007615786  0.4950684064786789\n",
            "98  0.493157258086381  0.49496614096896496\n",
            "99  0.49304701689250596  0.494862752175692\n",
            "100  0.49293565533882044  0.4947582383933188\n",
            "101  0.4928231741496155  0.4946526007027584\n",
            "102  0.4927095737250995  0.49454583969640986\n",
            "103  0.4925948540652719  0.49443795537427293\n",
            "104  0.49247901517013315  0.49432894773634783\n",
            "105  0.49236205703968294  0.49421881678263446\n",
            "106  0.4922439796739214  0.4941075625131329\n",
            "107  0.49212478307284846  0.493995184927843\n",
            "108  0.49200446723646407  0.4938816840267648\n",
            "109  0.4918830321647686  0.49376705980989843\n",
            "110  0.49176047785776145  0.4936513122772437\n",
            "111  0.4916368043154431  0.49353444142880076\n",
            "112  0.49151201153781343  0.49341644726456957\n",
            "113  0.49138609952487244  0.4932973297845501\n",
            "114  0.49125906827662  0.49317708898874246\n",
            "115  0.4911309177930562  0.49305572487714644\n",
            "116  0.49100164807418123  0.49293323744976236\n",
            "117  0.49087125911999463  0.4928096267065898\n",
            "118  0.4907397509304968  0.49268489264762905\n",
            "119  0.4906071235056878  0.49255903527288003\n",
            "120  0.49047337684556713  0.49243205458234296\n",
            "121  0.49033851095013525  0.4923039505760174\n",
            "122  0.49020252581939194  0.49217472325390366\n",
            "123  0.4900654214533373  0.49204437261600165\n",
            "124  0.48992719785197136  0.49191289866231136\n",
            "125  0.48978785501882305  0.4917803013976211\n",
            "126  0.4896473930031502  0.49164658088861124\n",
            "127  0.48950581175305985  0.4915117370647353\n",
            "128  0.48936311126855214  0.4913757699259931\n",
            "129  0.4892192915496272  0.49123867947238475\n",
            "130  0.4890743525962846  0.49110046570390997\n",
            "131  0.4889282944085246  0.49096112862056895\n",
            "132  0.4887811169863475  0.49082066822236203\n",
            "133  0.48863282032975275  0.49067908450928854\n",
            "134  0.4884834044387406  0.49053637748134904\n",
            "135  0.4883328693133111  0.4903925471385432\n",
            "136  0.4881813772503878  0.4902478215879261\n",
            "137  0.48802856199660194  0.4901016798008151\n",
            "138  0.4878746268791202  0.48995441404424145\n",
            "139  0.4877195718979427  0.4898060243182051\n",
            "140  0.4875634031194118  0.4896565198272237\n",
            "141  0.487406155510136  0.48950595344542125\n",
            "142  0.48724778870811203  0.48935426379172764\n",
            "143  0.4870883027133397  0.48920145086614264\n",
            "144  0.4869276975258191  0.4890475146686667\n",
            "145  0.48676597314555003  0.4888924551992996\n",
            "146  0.48660312957253293  0.4887362724580413\n",
            "147  0.4864391668067676  0.48857896644489196\n",
            "148  0.48627408484825385  0.48842053715985134\n",
            "149  0.486107883696992  0.48826098460291967\n",
            "150  0.48594056335298164  0.48810030877409694\n",
            "151  0.48577212381622303  0.4879385096733829\n",
            "152  0.4856025650867163  0.48777558730077786\n",
            "153  0.4854318871644612  0.4876115416562816\n",
            "154  0.4852600900494579  0.48744637273989433\n",
            "155  0.48508717374170607  0.48728008055161565\n",
            "156  0.4849131382412061  0.4871126650914459\n",
            "157  0.48473798354795805  0.4869441263593852\n",
            "158  0.48456170966196144  0.48677446435543337\n",
            "159  0.4843843165832168  0.48660367907959023\n",
            "160  0.48420580431172366  0.48643177053185593\n",
            "161  0.4840261728474823  0.4862587387122307\n",
            "162  0.48384542219049276  0.48608458362071416\n",
            "163  0.48366355234075487  0.4859093052573066\n",
            "164  0.48348056329826883  0.48573290362200783\n",
            "165  0.4832964550630344  0.4855553787148179\n",
            "166  0.48311122763505165  0.4853767305357368\n",
            "167  0.48292488101432085  0.4851969590847647\n",
            "168  0.48273741520084146  0.48501606436190126\n",
            "169  0.48254883019461414  0.4848340463671468\n",
            "170  0.4823591259956381  0.48465090510050124\n",
            "171  0.4821683026039142  0.48446664056196453\n",
            "172  0.4819763600194418  0.48428125275153655\n",
            "173  0.4817832982422212  0.4840947416692176\n",
            "174  0.4815891172741621  0.48390710731741327\n",
            "175  0.48139381711603957  0.4837183496970907\n",
            "176  0.48119739776522086  0.48352846880493094\n",
            "177  0.4809998592217062  0.4833374646409342\n",
            "178  0.48080120148549566  0.4831453372051001\n",
            "179  0.4806014245565895  0.48295208649742916\n",
            "180  0.48040052843498715  0.4827577125179209\n",
            "181  0.48019851312068873  0.4825622152665754\n",
            "182  0.47999537861369457  0.4823655947433928\n",
            "183  0.47979112491400455  0.4821678509483732\n",
            "184  0.4795857520216188  0.4819689838815163\n",
            "185  0.47937925993653674  0.48176899354282243\n",
            "186  0.47917164865875905  0.48156787993229133\n",
            "187  0.4789629181882854  0.481365643049923\n",
            "188  0.4787530685251159  0.4811622828957177\n",
            "189  0.47854209966925043  0.4809577994696752\n",
            "190  0.4783300116206892  0.4807521927717957\n",
            "191  0.4781168043794318  0.4805454628020789\n",
            "192  0.4779024779454787  0.48033760956052507\n",
            "193  0.4776870323188296  0.4801286330471338\n",
            "194  0.47747046749948463  0.4799185332619058\n",
            "195  0.4772527834874437  0.47970731020484036\n",
            "196  0.47703398028270705  0.47949496387593793\n",
            "197  0.4768140578852743  0.4792814942751983\n",
            "198  0.4765930162951457  0.47906690140262165\n",
            "199  0.47637085551232117  0.4788511852582078\n"
          ]
        }
      ],
      "source": [
        "for i in range(1, 200):\n",
        "    l1 = Lasso(alpha=i)\n",
        "    l1.fit(xtrain, ytrain)\n",
        "    train = l1.score(xtrain, ytrain)\n",
        "    test = l1.score(xtest, ytest)\n",
        "    print(f\"{i}  {train}  {test}\") "
      ]
    },
    {
      "cell_type": "code",
      "execution_count": null,
      "metadata": {
        "id": "w8EIB4VPGXyk"
      },
      "outputs": [],
      "source": [
        "l1 = Lasso(alpha=1)\n",
        "l1.fit(xtrain, ytrain)\n",
        "ypred = l1.predict(xtest)"
      ]
    },
    {
      "cell_type": "code",
      "execution_count": null,
      "metadata": {
        "id": "YgSrsAkNGa7L",
        "colab": {
          "base_uri": "https://localhost:8080/"
        },
        "outputId": "1fc1eb31-5c54-461d-cec4-3b8a33219081"
      },
      "outputs": [
        {
          "output_type": "stream",
          "name": "stdout",
          "text": [
            "Training Results -: 0.5032704372450689\n",
            "Testing Results -: 0.5037140594196743\n"
          ]
        }
      ],
      "source": [
        "train = l1.score(xtrain, ytrain)\n",
        "test = l1.score(xtest, ytest)\n",
        "\n",
        "print(f\"Training Results -: {train}\")\n",
        "print(f\"Testing Results -: {test}\")"
      ]
    },
    {
      "cell_type": "code",
      "execution_count": null,
      "metadata": {
        "id": "Ls7noIyIvC-Z",
        "colab": {
          "base_uri": "https://localhost:8080/",
          "height": 282
        },
        "outputId": "59508624-44d7-4694-ef97-43f37b369cca"
      },
      "outputs": [
        {
          "output_type": "execute_result",
          "data": {
            "text/plain": [
              "<matplotlib.collections.PathCollection at 0x7f5e52f8d850>"
            ]
          },
          "metadata": {},
          "execution_count": 168
        },
        {
          "output_type": "display_data",
          "data": {
            "text/plain": [
              "<Figure size 432x288 with 1 Axes>"
            ],
            "image/png": "[encoded data removed]"
          },
          "metadata": {
            "needs_background": "light"
          }
        }
      ],
      "source": [
        "plt.scatter(ytest, ypred)"
      ]
    },
    {
      "cell_type": "code",
      "execution_count": null,
      "metadata": {
        "id": "-JFQvOvjvHHG",
        "colab": {
          "base_uri": "https://localhost:8080/",
          "height": 297
        },
        "outputId": "4cdc5247-6c73-4c2b-b49f-d08ec6431dad"
      },
      "outputs": [
        {
          "output_type": "execute_result",
          "data": {
            "text/plain": [
              "<matplotlib.axes._subplots.AxesSubplot at 0x7f5e53004210>"
            ]
          },
          "metadata": {},
          "execution_count": 169
        },
        {
          "output_type": "display_data",
          "data": {
            "text/plain": [
              "<Figure size 432x288 with 1 Axes>"
            ],
            "image/png": "[encoded data removed]"
          },
          "metadata": {
            "needs_background": "light"
          }
        }
      ],
      "source": [
        "sns.distplot((ytest-ypred))"
      ]
    },
    {
      "cell_type": "markdown",
      "source": [
        "Model Evaluation"
      ],
      "metadata": {
        "id": "0xWZSwAU7F1s"
      }
    },
    {
      "cell_type": "code",
      "execution_count": null,
      "metadata": {
        "id": "qHt0WDVKvLTE",
        "colab": {
          "base_uri": "https://localhost:8080/"
        },
        "outputId": "80fbf16d-f8a8-4a3d-9877-b452b5683183"
      },
      "outputs": [
        {
          "output_type": "stream",
          "name": "stdout",
          "text": [
            "MAE : 911.8722818951717\n",
            "MSE : 1443645.63279078\n",
            "RMSE : 1201.5180534601966\n",
            "Accuracy : 0.5037140594196743\n"
          ]
        }
      ],
      "source": [
        "from sklearn.metrics import mean_absolute_error, mean_squared_error, r2_score\n",
        "mae = mean_absolute_error(ytest, ypred)\n",
        "mse = mean_squared_error(ytest, ypred)\n",
        "rmse = np.sqrt(mse)\n",
        "r2 = r2_score(ytest, ypred)\n",
        "\n",
        "print(f\"MAE : {mae}\\nMSE : {mse}\\nRMSE : {rmse}\\nAccuracy : {r2}\")"
      ]
    },
    {
      "cell_type": "code",
      "execution_count": null,
      "metadata": {
        "id": "clsge0KYEBle",
        "colab": {
          "base_uri": "https://localhost:8080/"
        },
        "outputId": "6ad78268-0afa-4db2-f112-4335691bce4f"
      },
      "outputs": [
        {
          "output_type": "stream",
          "name": "stdout",
          "text": [
            "Training Results -: 0.503414468435812\n",
            "Testing Results -: 0.5036092464135149\n"
          ]
        }
      ],
      "source": [
        "train = linreg.score(xtrain, ytrain)\n",
        "test = linreg.score(xtest, ytest)\n",
        "\n",
        "\n",
        "print(f\"Training Results -: {train}\")\n",
        "print(f\"Testing Results -: {test}\")"
      ]
    },
    {
      "cell_type": "code",
      "execution_count": null,
      "metadata": {
        "id": "3iwLOJ9svP_t",
        "colab": {
          "base_uri": "https://localhost:8080/"
        },
        "outputId": "b9592e11-6dae-44a1-f7fe-a78f6669ce6b"
      },
      "outputs": [
        {
          "output_type": "execute_result",
          "data": {
            "text/plain": [
              "Index(['Item_Identifier', 'Item_Weight', 'Item_Fat_Content', 'Item_Visibility',\n",
              "       'Item_Type', 'Item_MRP', 'Outlet_Identifier',\n",
              "       'Outlet_Establishment_Year', 'Outlet_Size', 'Outlet_Location_Type',\n",
              "       'Outlet_Type'],\n",
              "      dtype='object')"
            ]
          },
          "metadata": {},
          "execution_count": 172
        }
      ],
      "source": [
        "x.columns"
      ]
    },
    {
      "cell_type": "markdown",
      "source": [
        "Testing Of New Observation"
      ],
      "metadata": {
        "id": "EqCyI2SfvSy-"
      }
    },
    {
      "cell_type": "code",
      "execution_count": null,
      "metadata": {
        "id": "dd7jgtOLvTk2"
      },
      "outputs": [],
      "source": [
        "def predictprice(II,IW,IFC,IV,IT,IM,OI,OEY,OS,OLT,OT):\n",
        "    newobs = [[II,IW,IFC,IV,IT,IM,OI,OEY,OS,OLT,OT]]\n",
        "    yp = linreg.predict(newobs)[0]\n",
        "    print(f\"Item Outlet sale price is {yp:.2f}\")\n",
        "    return yp"
      ]
    },
    {
      "cell_type": "code",
      "execution_count": null,
      "metadata": {
        "id": "CBDAyQulxzrw",
        "colab": {
          "base_uri": "https://localhost:8080/"
        },
        "outputId": "bd6e3312-3ced-4033-92b8-8ec4f5e30242"
      },
      "outputs": [
        {
          "output_type": "stream",
          "name": "stdout",
          "text": [
            "Item Outlet sale price is 2404.81\n"
          ]
        },
        {
          "output_type": "execute_result",
          "data": {
            "text/plain": [
              "2404.811779084074"
            ]
          },
          "metadata": {},
          "execution_count": 174
        }
      ],
      "source": [
        "predictprice(1200,9,1,.0368,9,210,8,1987,2,2,0)"
      ]
    }
  ],
  "metadata": {
    "colab": {
      "collapsed_sections": [],
      "provenance": []
    },
    "kernelspec": {
      "display_name": "Python 3",
      "name": "python3"
    },
    "language_info": {
      "name": "python"
    }
  },
  "nbformat": 4,
  "nbformat_minor": 0
}